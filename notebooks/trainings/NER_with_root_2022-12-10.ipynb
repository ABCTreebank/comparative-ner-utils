{
 "cells": [
  {
   "cell_type": "code",
   "execution_count": 1,
   "metadata": {},
   "outputs": [],
   "source": [
    "import itertools\n",
    "\n",
    "import numpy as np\n",
    "import torch\n",
    "from transformers import BertForTokenClassification, BertConfig, IntervalStrategy, TrainingArguments, Trainer\n",
    "import datasets\n",
    "from datasets.arrow_dataset import Dataset\n",
    "\n",
    "import ruamel.yaml\n",
    "\n",
    "import abct_comp_ner_utils.models.NER_with_root as nwr\n",
    "import abct_comp_ner_utils.brackets as br\n",
    "\n",
    "tokenizer = nwr.get_tokenizer()\n",
    "\n",
    "BATCH_SIZE = 32\n",
    "OUTPUT_PATH = \"../../results_2022-12-10\""
   ]
  },
  {
   "cell_type": "code",
   "execution_count": 2,
   "metadata": {},
   "outputs": [
    {
     "name": "stderr",
     "output_type": "stream",
     "text": [
      "Using custom data configuration abctreebank--comparative-NER-BCCWJ-c32c3cdce4ba824a\n",
      "Found cached dataset parquet (/home/owner/.cache/huggingface/datasets/abctreebank___parquet/abctreebank--comparative-NER-BCCWJ-c32c3cdce4ba824a/0.0.0/2a3b91fbd88a2c90d1dbbb32b460cf621d31bd5b05b934492fdef7d8d6f236ec)\n"
     ]
    },
    {
     "data": {
      "application/vnd.jupyter.widget-view+json": {
       "model_id": "b1bd4e9e1b5f4074b7ef37df813db8c6",
       "version_major": 2,
       "version_minor": 0
      },
      "text/plain": [
       "  0%|          | 0/2 [00:00<?, ?it/s]"
      ]
     },
     "metadata": {},
     "output_type": "display_data"
    }
   ],
   "source": [
    "dataset_raw = datasets.load_dataset(\n",
    "    \"abctreebank/comparative-NER-BCCWJ\",\n",
    "    use_auth_token = True,\n",
    "    revision = \"de8fe2785391897efc898be36d695d8164863045\",\n",
    ")"
   ]
  },
  {
   "cell_type": "markdown",
   "metadata": {},
   "source": [
    "## Training"
   ]
  },
  {
   "cell_type": "code",
   "execution_count": 3,
   "metadata": {},
   "outputs": [
    {
     "name": "stderr",
     "output_type": "stream",
     "text": [
      "Loading cached processed dataset at /home/owner/.cache/huggingface/datasets/abctreebank___parquet/abctreebank--comparative-NER-BCCWJ-c32c3cdce4ba824a/0.0.0/2a3b91fbd88a2c90d1dbbb32b460cf621d31bd5b05b934492fdef7d8d6f236ec/cache-2a9fda706375c690.arrow\n"
     ]
    }
   ],
   "source": [
    "ds_train: Dataset = dataset_raw[\"train\"]\n",
    "ds_train = ds_train.map(\n",
    "    lambda E: nwr.convert_annotation_entries_to_matrices(\n",
    "        E,\n",
    "        return_type = \"pt\",\n",
    "    ),\n",
    "    batched = True,\n",
    "    batch_size = BATCH_SIZE,\n",
    "    remove_columns = ds_train.column_names,\n",
    ")"
   ]
  },
  {
   "cell_type": "code",
   "execution_count": 4,
   "metadata": {},
   "outputs": [],
   "source": [
    "# train/eval split\n",
    "ds_train_split = ds_train.train_test_split(test_size = 0.1, shuffle = True)"
   ]
  },
  {
   "cell_type": "code",
   "execution_count": 5,
   "metadata": {},
   "outputs": [
    {
     "name": "stderr",
     "output_type": "stream",
     "text": [
      "Some weights of the model checkpoint at cl-tohoku/bert-base-japanese-whole-word-masking were not used when initializing BertForTokenClassification: ['cls.seq_relationship.bias', 'cls.predictions.bias', 'cls.predictions.transform.dense.weight', 'cls.predictions.decoder.weight', 'cls.predictions.transform.LayerNorm.bias', 'cls.predictions.transform.dense.bias', 'cls.seq_relationship.weight', 'cls.predictions.transform.LayerNorm.weight']\n",
      "- This IS expected if you are initializing BertForTokenClassification from the checkpoint of a model trained on another task or with another architecture (e.g. initializing a BertForSequenceClassification model from a BertForPreTraining model).\n",
      "- This IS NOT expected if you are initializing BertForTokenClassification from the checkpoint of a model that you expect to be exactly identical (initializing a BertForSequenceClassification model from a BertForSequenceClassification model).\n",
      "Some weights of BertForTokenClassification were not initialized from the model checkpoint at cl-tohoku/bert-base-japanese-whole-word-masking and are newly initialized: ['classifier.bias', 'classifier.weight']\n",
      "You should probably TRAIN this model on a down-stream task to be able to use it for predictions and inference.\n"
     ]
    }
   ],
   "source": [
    "config = BertConfig.from_pretrained(\n",
    "    nwr.BERT_MODEL,\n",
    "    id2label = nwr.ID2LABEL,\n",
    "    label2id = nwr.LABEL2ID,\n",
    ")\n",
    "\n",
    "model = BertForTokenClassification.from_pretrained(\n",
    "    nwr.BERT_MODEL,\n",
    "    config = config,\n",
    ")\n",
    "\n",
    "training_args = TrainingArguments(\n",
    "        output_dir = OUTPUT_PATH,\n",
    "        num_train_epochs = 27,\n",
    "        per_device_train_batch_size = 64,\n",
    "        per_device_eval_batch_size = 128,\n",
    "        learning_rate = 5e-5,\n",
    "        warmup_steps = 200,\n",
    "        weight_decay = 0,\n",
    "        save_strategy = IntervalStrategy.STEPS,\n",
    "        save_steps = 1000,\n",
    "        seed = 2630987289,\n",
    "        logging_dir = f\"{OUTPUT_PATH}/logs\",\n",
    "        logging_steps= 10,\n",
    "    )\n",
    "\n",
    "trainer = Trainer(\n",
    "    model_init = lambda: model,\n",
    "    args = training_args,\n",
    "    train_dataset = ds_train_split[\"train\"],\n",
    ")"
   ]
  },
  {
   "cell_type": "code",
   "execution_count": 6,
   "metadata": {},
   "outputs": [
    {
     "name": "stderr",
     "output_type": "stream",
     "text": [
      "The following columns in the training set don't have a corresponding argument in `BertForTokenClassification.forward` and have been ignored: token_subwords. If token_subwords are not expected by `BertForTokenClassification.forward`,  you can safely ignore this message.\n",
      "/home/owner/.cache/pypoetry/virtualenvs/comparative-ner-utils-sv0RmVnD-py3.10/lib/python3.10/site-packages/transformers/optimization.py:306: FutureWarning: This implementation of AdamW is deprecated and will be removed in a future version. Use the PyTorch implementation torch.optim.AdamW instead, or set `no_deprecation_warning=True` to disable this warning\n",
      "  warnings.warn(\n",
      "***** Running training *****\n",
      "  Num examples = 2808\n",
      "  Num Epochs = 27\n",
      "  Instantaneous batch size per device = 64\n",
      "  Total train batch size (w. parallel, distributed & accumulation) = 64\n",
      "  Gradient Accumulation steps = 1\n",
      "  Total optimization steps = 1188\n",
      "  Number of trainable parameters = 110031366\n"
     ]
    },
    {
     "data": {
      "application/vnd.jupyter.widget-view+json": {
       "model_id": "dcdc84209195471b9a62502fec8358a7",
       "version_major": 2,
       "version_minor": 0
      },
      "text/plain": [
       "  0%|          | 0/1188 [00:00<?, ?it/s]"
      ]
     },
     "metadata": {},
     "output_type": "display_data"
    },
    {
     "name": "stdout",
     "output_type": "stream",
     "text": [
      "{'loss': 1.9566, 'learning_rate': 2.5e-06, 'epoch': 0.23}\n",
      "{'loss': 1.6869, 'learning_rate': 5e-06, 'epoch': 0.45}\n",
      "{'loss': 1.1212, 'learning_rate': 7.5e-06, 'epoch': 0.68}\n",
      "{'loss': 0.387, 'learning_rate': 1e-05, 'epoch': 0.91}\n",
      "{'loss': 0.1886, 'learning_rate': 1.25e-05, 'epoch': 1.14}\n",
      "{'loss': 0.1354, 'learning_rate': 1.5e-05, 'epoch': 1.36}\n",
      "{'loss': 0.1156, 'learning_rate': 1.75e-05, 'epoch': 1.59}\n",
      "{'loss': 0.0998, 'learning_rate': 2e-05, 'epoch': 1.82}\n",
      "{'loss': 0.0825, 'learning_rate': 2.25e-05, 'epoch': 2.05}\n",
      "{'loss': 0.064, 'learning_rate': 2.5e-05, 'epoch': 2.27}\n",
      "{'loss': 0.059, 'learning_rate': 2.7500000000000004e-05, 'epoch': 2.5}\n",
      "{'loss': 0.0506, 'learning_rate': 3e-05, 'epoch': 2.73}\n",
      "{'loss': 0.0499, 'learning_rate': 3.2500000000000004e-05, 'epoch': 2.95}\n",
      "{'loss': 0.0464, 'learning_rate': 3.5e-05, 'epoch': 3.18}\n",
      "{'loss': 0.0408, 'learning_rate': 3.7500000000000003e-05, 'epoch': 3.41}\n",
      "{'loss': 0.0389, 'learning_rate': 4e-05, 'epoch': 3.64}\n",
      "{'loss': 0.042, 'learning_rate': 4.25e-05, 'epoch': 3.86}\n",
      "{'loss': 0.0329, 'learning_rate': 4.5e-05, 'epoch': 4.09}\n",
      "{'loss': 0.0305, 'learning_rate': 4.75e-05, 'epoch': 4.32}\n",
      "{'loss': 0.0279, 'learning_rate': 5e-05, 'epoch': 4.55}\n",
      "{'loss': 0.0291, 'learning_rate': 4.9493927125506076e-05, 'epoch': 4.77}\n",
      "{'loss': 0.0268, 'learning_rate': 4.898785425101215e-05, 'epoch': 5.0}\n",
      "{'loss': 0.0222, 'learning_rate': 4.848178137651822e-05, 'epoch': 5.23}\n",
      "{'loss': 0.0213, 'learning_rate': 4.797570850202429e-05, 'epoch': 5.45}\n",
      "{'loss': 0.0186, 'learning_rate': 4.746963562753037e-05, 'epoch': 5.68}\n",
      "{'loss': 0.0211, 'learning_rate': 4.6963562753036435e-05, 'epoch': 5.91}\n",
      "{'loss': 0.0179, 'learning_rate': 4.6457489878542516e-05, 'epoch': 6.14}\n",
      "{'loss': 0.0161, 'learning_rate': 4.595141700404859e-05, 'epoch': 6.36}\n",
      "{'loss': 0.0146, 'learning_rate': 4.5445344129554655e-05, 'epoch': 6.59}\n",
      "{'loss': 0.0166, 'learning_rate': 4.4939271255060735e-05, 'epoch': 6.82}\n",
      "{'loss': 0.0164, 'learning_rate': 4.44331983805668e-05, 'epoch': 7.05}\n",
      "{'loss': 0.0125, 'learning_rate': 4.3927125506072875e-05, 'epoch': 7.27}\n",
      "{'loss': 0.0134, 'learning_rate': 4.342105263157895e-05, 'epoch': 7.5}\n",
      "{'loss': 0.0115, 'learning_rate': 4.291497975708502e-05, 'epoch': 7.73}\n",
      "{'loss': 0.0116, 'learning_rate': 4.2408906882591095e-05, 'epoch': 7.95}\n",
      "{'loss': 0.0111, 'learning_rate': 4.190283400809717e-05, 'epoch': 8.18}\n",
      "{'loss': 0.0099, 'learning_rate': 4.139676113360324e-05, 'epoch': 8.41}\n",
      "{'loss': 0.011, 'learning_rate': 4.089068825910931e-05, 'epoch': 8.64}\n",
      "{'loss': 0.01, 'learning_rate': 4.038461538461539e-05, 'epoch': 8.86}\n",
      "{'loss': 0.0085, 'learning_rate': 3.9878542510121455e-05, 'epoch': 9.09}\n",
      "{'loss': 0.0077, 'learning_rate': 3.9372469635627535e-05, 'epoch': 9.32}\n",
      "{'loss': 0.009, 'learning_rate': 3.886639676113361e-05, 'epoch': 9.55}\n",
      "{'loss': 0.0103, 'learning_rate': 3.8360323886639675e-05, 'epoch': 9.77}\n",
      "{'loss': 0.0084, 'learning_rate': 3.7854251012145755e-05, 'epoch': 10.0}\n",
      "{'loss': 0.0062, 'learning_rate': 3.734817813765182e-05, 'epoch': 10.23}\n",
      "{'loss': 0.0071, 'learning_rate': 3.6842105263157895e-05, 'epoch': 10.45}\n",
      "{'loss': 0.0074, 'learning_rate': 3.633603238866397e-05, 'epoch': 10.68}\n",
      "{'loss': 0.0083, 'learning_rate': 3.582995951417004e-05, 'epoch': 10.91}\n",
      "{'loss': 0.0077, 'learning_rate': 3.5323886639676115e-05, 'epoch': 11.14}\n",
      "{'loss': 0.0064, 'learning_rate': 3.481781376518219e-05, 'epoch': 11.36}\n",
      "{'loss': 0.0059, 'learning_rate': 3.431174089068826e-05, 'epoch': 11.59}\n",
      "{'loss': 0.0057, 'learning_rate': 3.3805668016194335e-05, 'epoch': 11.82}\n",
      "{'loss': 0.0053, 'learning_rate': 3.329959514170041e-05, 'epoch': 12.05}\n",
      "{'loss': 0.0055, 'learning_rate': 3.279352226720648e-05, 'epoch': 12.27}\n",
      "{'loss': 0.0058, 'learning_rate': 3.2287449392712554e-05, 'epoch': 12.5}\n",
      "{'loss': 0.0053, 'learning_rate': 3.178137651821863e-05, 'epoch': 12.73}\n",
      "{'loss': 0.0046, 'learning_rate': 3.1275303643724694e-05, 'epoch': 12.95}\n",
      "{'loss': 0.0046, 'learning_rate': 3.0769230769230774e-05, 'epoch': 13.18}\n",
      "{'loss': 0.0043, 'learning_rate': 3.0263157894736844e-05, 'epoch': 13.41}\n",
      "{'loss': 0.0049, 'learning_rate': 2.9757085020242914e-05, 'epoch': 13.64}\n",
      "{'loss': 0.0051, 'learning_rate': 2.925101214574899e-05, 'epoch': 13.86}\n",
      "{'loss': 0.0043, 'learning_rate': 2.874493927125506e-05, 'epoch': 14.09}\n",
      "{'loss': 0.0041, 'learning_rate': 2.823886639676113e-05, 'epoch': 14.32}\n",
      "{'loss': 0.0042, 'learning_rate': 2.7732793522267207e-05, 'epoch': 14.55}\n",
      "{'loss': 0.005, 'learning_rate': 2.722672064777328e-05, 'epoch': 14.77}\n",
      "{'loss': 0.0045, 'learning_rate': 2.6720647773279357e-05, 'epoch': 15.0}\n",
      "{'loss': 0.0042, 'learning_rate': 2.6214574898785427e-05, 'epoch': 15.23}\n",
      "{'loss': 0.0035, 'learning_rate': 2.5708502024291497e-05, 'epoch': 15.45}\n",
      "{'loss': 0.0037, 'learning_rate': 2.5202429149797574e-05, 'epoch': 15.68}\n",
      "{'loss': 0.0042, 'learning_rate': 2.4696356275303644e-05, 'epoch': 15.91}\n",
      "{'loss': 0.0038, 'learning_rate': 2.4190283400809717e-05, 'epoch': 16.14}\n",
      "{'loss': 0.0033, 'learning_rate': 2.368421052631579e-05, 'epoch': 16.36}\n",
      "{'loss': 0.0036, 'learning_rate': 2.3178137651821864e-05, 'epoch': 16.59}\n",
      "{'loss': 0.0036, 'learning_rate': 2.2672064777327937e-05, 'epoch': 16.82}\n",
      "{'loss': 0.0046, 'learning_rate': 2.216599190283401e-05, 'epoch': 17.05}\n",
      "{'loss': 0.0037, 'learning_rate': 2.165991902834008e-05, 'epoch': 17.27}\n",
      "{'loss': 0.0029, 'learning_rate': 2.1153846153846154e-05, 'epoch': 17.5}\n",
      "{'loss': 0.0031, 'learning_rate': 2.0647773279352227e-05, 'epoch': 17.73}\n",
      "{'loss': 0.0027, 'learning_rate': 2.0141700404858304e-05, 'epoch': 17.95}\n",
      "{'loss': 0.0026, 'learning_rate': 1.9635627530364373e-05, 'epoch': 18.18}\n",
      "{'loss': 0.0025, 'learning_rate': 1.9129554655870447e-05, 'epoch': 18.41}\n",
      "{'loss': 0.0033, 'learning_rate': 1.862348178137652e-05, 'epoch': 18.64}\n",
      "{'loss': 0.0032, 'learning_rate': 1.811740890688259e-05, 'epoch': 18.86}\n",
      "{'loss': 0.003, 'learning_rate': 1.7611336032388663e-05, 'epoch': 19.09}\n",
      "{'loss': 0.0023, 'learning_rate': 1.7105263157894737e-05, 'epoch': 19.32}\n",
      "{'loss': 0.0026, 'learning_rate': 1.6599190283400813e-05, 'epoch': 19.55}\n",
      "{'loss': 0.0026, 'learning_rate': 1.6093117408906883e-05, 'epoch': 19.77}\n",
      "{'loss': 0.0022, 'learning_rate': 1.5587044534412957e-05, 'epoch': 20.0}\n",
      "{'loss': 0.0023, 'learning_rate': 1.508097165991903e-05, 'epoch': 20.23}\n",
      "{'loss': 0.0021, 'learning_rate': 1.4574898785425101e-05, 'epoch': 20.45}\n",
      "{'loss': 0.0018, 'learning_rate': 1.4068825910931175e-05, 'epoch': 20.68}\n",
      "{'loss': 0.0027, 'learning_rate': 1.3562753036437248e-05, 'epoch': 20.91}\n",
      "{'loss': 0.002, 'learning_rate': 1.3056680161943321e-05, 'epoch': 21.14}\n",
      "{'loss': 0.0023, 'learning_rate': 1.2550607287449393e-05, 'epoch': 21.36}\n",
      "{'loss': 0.0021, 'learning_rate': 1.2044534412955466e-05, 'epoch': 21.59}\n",
      "{'loss': 0.0019, 'learning_rate': 1.153846153846154e-05, 'epoch': 21.82}\n",
      "{'loss': 0.0018, 'learning_rate': 1.1032388663967611e-05, 'epoch': 22.05}\n",
      "{'loss': 0.0016, 'learning_rate': 1.0526315789473684e-05, 'epoch': 22.27}\n",
      "{'loss': 0.0022, 'learning_rate': 1.0020242914979758e-05, 'epoch': 22.5}\n"
     ]
    },
    {
     "name": "stderr",
     "output_type": "stream",
     "text": [
      "Saving model checkpoint to ../../results_2022-12-10/checkpoint-1000\n",
      "Configuration saved in ../../results_2022-12-10/checkpoint-1000/config.json\n"
     ]
    },
    {
     "name": "stdout",
     "output_type": "stream",
     "text": [
      "{'loss': 0.0019, 'learning_rate': 9.51417004048583e-06, 'epoch': 22.73}\n"
     ]
    },
    {
     "name": "stderr",
     "output_type": "stream",
     "text": [
      "Model weights saved in ../../results_2022-12-10/checkpoint-1000/pytorch_model.bin\n"
     ]
    },
    {
     "name": "stdout",
     "output_type": "stream",
     "text": [
      "{'loss': 0.0022, 'learning_rate': 9.008097165991904e-06, 'epoch': 22.95}\n",
      "{'loss': 0.0016, 'learning_rate': 8.502024291497976e-06, 'epoch': 23.18}\n",
      "{'loss': 0.002, 'learning_rate': 7.99595141700405e-06, 'epoch': 23.41}\n",
      "{'loss': 0.0017, 'learning_rate': 7.489878542510122e-06, 'epoch': 23.64}\n",
      "{'loss': 0.0015, 'learning_rate': 6.983805668016195e-06, 'epoch': 23.86}\n",
      "{'loss': 0.002, 'learning_rate': 6.4777327935222675e-06, 'epoch': 24.09}\n",
      "{'loss': 0.0015, 'learning_rate': 5.971659919028341e-06, 'epoch': 24.32}\n",
      "{'loss': 0.0017, 'learning_rate': 5.465587044534413e-06, 'epoch': 24.55}\n",
      "{'loss': 0.0017, 'learning_rate': 4.9595141700404865e-06, 'epoch': 24.77}\n",
      "{'loss': 0.002, 'learning_rate': 4.453441295546559e-06, 'epoch': 25.0}\n",
      "{'loss': 0.0015, 'learning_rate': 3.9473684210526315e-06, 'epoch': 25.23}\n",
      "{'loss': 0.0015, 'learning_rate': 3.4412955465587043e-06, 'epoch': 25.45}\n",
      "{'loss': 0.0021, 'learning_rate': 2.9352226720647772e-06, 'epoch': 25.68}\n",
      "{'loss': 0.0018, 'learning_rate': 2.4291497975708505e-06, 'epoch': 25.91}\n",
      "{'loss': 0.0013, 'learning_rate': 1.9230769230769234e-06, 'epoch': 26.14}\n",
      "{'loss': 0.0015, 'learning_rate': 1.417004048582996e-06, 'epoch': 26.36}\n",
      "{'loss': 0.0016, 'learning_rate': 9.109311740890688e-07, 'epoch': 26.59}\n",
      "{'loss': 0.0018, 'learning_rate': 4.048582995951417e-07, 'epoch': 26.82}\n"
     ]
    },
    {
     "name": "stderr",
     "output_type": "stream",
     "text": [
      "\n",
      "\n",
      "Training completed. Do not forget to share your model on huggingface.co/models =)\n",
      "\n",
      "\n",
      "Saving model checkpoint to ../../results_2022-12-10\n",
      "Configuration saved in ../../results_2022-12-10/config.json\n"
     ]
    },
    {
     "name": "stdout",
     "output_type": "stream",
     "text": [
      "{'train_runtime': 688.504, 'train_samples_per_second': 110.117, 'train_steps_per_second': 1.725, 'train_loss': 0.05776480072952481, 'epoch': 27.0}\n"
     ]
    },
    {
     "name": "stderr",
     "output_type": "stream",
     "text": [
      "Model weights saved in ../../results_2022-12-10/pytorch_model.bin\n"
     ]
    }
   ],
   "source": [
    "trainer.train()\n",
    "trainer.save_state()\n",
    "trainer.save_model()"
   ]
  },
  {
   "cell_type": "markdown",
   "metadata": {},
   "source": [
    "## Evaluating"
   ]
  },
  {
   "cell_type": "code",
   "execution_count": 3,
   "metadata": {},
   "outputs": [],
   "source": [
    "SAVED_PATH = OUTPUT_PATH\n",
    "\n",
    "model = BertForTokenClassification.from_pretrained(\n",
    "    SAVED_PATH,\n",
    ").cuda()"
   ]
  },
  {
   "cell_type": "code",
   "execution_count": 4,
   "metadata": {},
   "outputs": [
    {
     "name": "stderr",
     "output_type": "stream",
     "text": [
      "Loading cached processed dataset at /home/owner/.cache/huggingface/datasets/abctreebank___parquet/abctreebank--comparative-NER-BCCWJ-c32c3cdce4ba824a/0.0.0/2a3b91fbd88a2c90d1dbbb32b460cf621d31bd5b05b934492fdef7d8d6f236ec/cache-e90c0696c19adfe8.arrow\n"
     ]
    }
   ],
   "source": [
    "ds_test = dataset_raw[\"test\"].map(\n",
    "    lambda E: nwr.convert_annotation_entries_to_matrices(\n",
    "        E,\n",
    "        return_type = \"pt\",\n",
    "    ),\n",
    "    batched = True,\n",
    "    batch_size = BATCH_SIZE,\n",
    ")"
   ]
  },
  {
   "cell_type": "code",
   "execution_count": 5,
   "metadata": {},
   "outputs": [
    {
     "name": "stderr",
     "output_type": "stream",
     "text": [
      "Loading cached processed dataset at /home/owner/.cache/huggingface/datasets/abctreebank___parquet/abctreebank--comparative-NER-BCCWJ-c32c3cdce4ba824a/0.0.0/2a3b91fbd88a2c90d1dbbb32b460cf621d31bd5b05b934492fdef7d8d6f236ec/cache-cc1a1dbdcab85a37.arrow\n"
     ]
    }
   ],
   "source": [
    "def _predict(\n",
    "    examples: datasets.arrow_dataset.Batch\n",
    "):\n",
    "    predictions_raw = model.forward(\n",
    "        input_ids = torch.tensor(examples[\"input_ids\"]).cuda(),\n",
    "        attention_mask = torch.tensor(examples[\"attention_mask\"]).cuda(),\n",
    "        token_type_ids  = torch.tensor(examples[\"token_type_ids\"]).cuda(),\n",
    "        return_dict = True,\n",
    "    )\n",
    "\n",
    "    examples[\"label_ids_predicted\"] = (\n",
    "        predictions_raw.logits\n",
    "        .argmax(dim = 2,)\n",
    "        .detach()\n",
    "        .cpu()\n",
    "        .numpy()\n",
    "    )\n",
    "\n",
    "    return examples\n",
    "# === END ===\n",
    "\n",
    "ds_test = ds_test.map(\n",
    "    lambda e: (\n",
    "        nwr.convert_predictions_to_annotations(\n",
    "            nwr.convert_predictions_to_annotations(\n",
    "                _predict(e),\n",
    "                label_ids_key = \"label_ids_predicted\",\n",
    "                comp_key = \"comp_predicted\",\n",
    "            ),\n",
    "            label_ids_key = \"label_ids\",\n",
    "            comp_key = \"comp_subword_aligned\",\n",
    "        )\n",
    "    ),\n",
    "    batched = True,\n",
    "    batch_size = BATCH_SIZE,\n",
    ")"
   ]
  },
  {
   "cell_type": "code",
   "execution_count": 6,
   "metadata": {},
   "outputs": [],
   "source": [
    "metric = nwr.NERWithRootMetrics()\n",
    "metric.add_batch(\n",
    "    predictions = ds_test[\"label_ids_predicted\"],\n",
    "    references = ds_test[\"label_ids\"],\n",
    ")\n",
    "metric_result = metric.compute()\n",
    "ds_test_with_alignments = ds_test.add_column(\n",
    "    \"alignments\",\n",
    "    metric_result[\"alignments\"],\n",
    ")"
   ]
  },
  {
   "cell_type": "code",
   "execution_count": 7,
   "metadata": {},
   "outputs": [
    {
     "name": "stderr",
     "output_type": "stream",
     "text": [
      "Loading cached processed dataset at /home/owner/.cache/huggingface/datasets/abctreebank___parquet/abctreebank--comparative-NER-BCCWJ-c32c3cdce4ba824a/0.0.0/2a3b91fbd88a2c90d1dbbb32b460cf621d31bd5b05b934492fdef7d8d6f236ec/cache-48462000777c1440.arrow\n"
     ]
    }
   ],
   "source": [
    "def _linearize_comp(\n",
    "    batch: datasets.arrow_dataset.Batch\n",
    ") -> datasets.arrow_dataset.Batch:\n",
    "    ls_reference_linear = []\n",
    "    ls_prediction_linear = []\n",
    "    batch_size = len(batch[\"ID\"])\n",
    "\n",
    "    for i in range(batch_size):\n",
    "        ID = batch[\"ID\"][i]\n",
    "        tokens = tuple(\n",
    "                    itertools.takewhile(\n",
    "                lambda t: t not in (\"[SEP]\", \"[PAD]\"),\n",
    "                batch[\"token_subwords\"][i]\n",
    "            )\n",
    "        )\n",
    "\n",
    "        ls_reference_linear.append(\n",
    "            br.linearlize_annotation(\n",
    "                tokens,\n",
    "                batch[\"comp_subword_aligned\"][i],\n",
    "                ID = ID,\n",
    "            )\n",
    "        )\n",
    "        ls_prediction_linear.append(\n",
    "            br.linearlize_annotation(\n",
    "                tokens,\n",
    "                batch[\"comp_predicted\"][i],\n",
    "                ID = ID,\n",
    "            )\n",
    "        )\n",
    "\n",
    "    batch[\"reference_linear\"] = ls_reference_linear\n",
    "    batch[\"prediction_linear\"] = ls_prediction_linear\n",
    "\n",
    "    return batch\n",
    "\n",
    "ds_test_with_alignments = ds_test_with_alignments.map(\n",
    "    _linearize_comp,\n",
    "    batched = True,\n",
    "    batch_size = BATCH_SIZE,\n",
    ")\n",
    "\n",
    "ds_test_dump = ds_test_with_alignments.remove_columns(\n",
    "    [\n",
    "        col for col in ds_test_with_alignments.column_names\n",
    "        if col not in (\n",
    "            \"ID\",\n",
    "            \"prediction_linear\",\n",
    "            \"reference_linear\",\n",
    "            \"alignments\",\n",
    "        )\n",
    "    ]\n",
    ")"
   ]
  },
  {
   "cell_type": "code",
   "execution_count": 8,
   "metadata": {},
   "outputs": [],
   "source": [
    "yaml = ruamel.yaml.YAML()\n",
    "with open(\"./result.yaml\", \"w\") as f:\n",
    "    yaml.dump(\n",
    "        [entry for entry in ds_test_dump],\n",
    "        f\n",
    "    )"
   ]
  },
  {
   "cell_type": "code",
   "execution_count": 15,
   "metadata": {},
   "outputs": [
    {
     "data": {
      "text/plain": [
       "0.71754390628611"
      ]
     },
     "execution_count": 15,
     "metadata": {},
     "output_type": "execute_result"
    }
   ],
   "source": [
    "metric_result[\"F1_partial_average\"]"
   ]
  },
  {
   "cell_type": "code",
   "execution_count": 9,
   "metadata": {},
   "outputs": [
    {
     "data": {
      "text/plain": [
       "0.5652134522787966"
      ]
     },
     "execution_count": 9,
     "metadata": {},
     "output_type": "execute_result"
    }
   ],
   "source": [
    "metric_result[\"F1_strict_average\"]\n"
   ]
  },
  {
   "cell_type": "code",
   "execution_count": 12,
   "metadata": {},
   "outputs": [
    {
     "name": "stdout",
     "output_type": "stream",
     "text": [
      "NERWithRootLabel.deg\n",
      "0.7204658901830284\n",
      "0.5823627287853578\n",
      "\n",
      "NERWithRootLabel.prej\n",
      "0.8529411764705882\n",
      "0.7820069204152249\n",
      "\n",
      "NERWithRootLabel.cont\n",
      "0.6349557522123893\n",
      "0.44247787610619466\n",
      "\n",
      "NERWithRootLabel.diff\n",
      "0.7409638554216867\n",
      "0.6144578313253012\n",
      "\n",
      "NERWithRootLabel.root\n",
      "0.6383928571428571\n",
      "0.4047619047619047\n",
      "\n"
     ]
    }
   ],
   "source": [
    "for label, res in metric_result[\"scores_spanwise\"].items():\n",
    "    print(label)\n",
    "    print(res[\"F1_partial\"])\n",
    "    print(res[\"F1_strict\"])\n",
    "    print()"
   ]
  }
 ],
 "metadata": {
  "kernelspec": {
   "display_name": "Python 3.10.4 ('comparative-ner-utils-sv0RmVnD-py3.10')",
   "language": "python",
   "name": "python3"
  },
  "language_info": {
   "codemirror_mode": {
    "name": "ipython",
    "version": 3
   },
   "file_extension": ".py",
   "mimetype": "text/x-python",
   "name": "python",
   "nbconvert_exporter": "python",
   "pygments_lexer": "ipython3",
   "version": "3.10.4"
  },
  "orig_nbformat": 4,
  "vscode": {
   "interpreter": {
    "hash": "98ff88495b25d3c68e7ba2c5383ef33c76229d3a0872ace53e941ddd39c21b36"
   }
  }
 },
 "nbformat": 4,
 "nbformat_minor": 2
}
