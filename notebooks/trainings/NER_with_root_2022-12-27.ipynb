{
 "cells": [
  {
   "cell_type": "code",
   "execution_count": 1,
   "metadata": {},
   "outputs": [],
   "source": [
    "import itertools\n",
    "\n",
    "import numpy as np\n",
    "import torch\n",
    "from transformers import BertForTokenClassification, BertConfig, IntervalStrategy, TrainingArguments, Trainer\n",
    "import datasets\n",
    "from datasets.arrow_dataset import Dataset\n",
    "\n",
    "import ruamel.yaml\n",
    "\n",
    "import abctk.obj.comparative as aoc\n",
    "\n",
    "import abct_comp_ner_utils.models.NER_with_root as nwr\n",
    "\n",
    "tokenizer = nwr.get_tokenizer()\n",
    "\n",
    "BATCH_SIZE = 32\n",
    "OUTPUT_PATH = \"../../results_2022-12-27\""
   ]
  },
  {
   "cell_type": "code",
   "execution_count": 4,
   "metadata": {},
   "outputs": [
    {
     "data": {
      "application/vnd.jupyter.widget-view+json": {
       "model_id": "2af4ccfd92674cdc873c4e15d4a069eb",
       "version_major": 2,
       "version_minor": 0
      },
      "text/plain": [
       "Downloading metadata:   0%|          | 0.00/1.56k [00:00<?, ?B/s]"
      ]
     },
     "metadata": {},
     "output_type": "display_data"
    },
    {
     "data": {
      "application/vnd.jupyter.widget-view+json": {
       "model_id": "40ae68d1ea1b4621a8a4c0e4f804ec0d",
       "version_major": 2,
       "version_minor": 0
      },
      "text/plain": [
       "Downloading readme:   0%|          | 0.00/632 [00:00<?, ?B/s]"
      ]
     },
     "metadata": {},
     "output_type": "display_data"
    },
    {
     "name": "stderr",
     "output_type": "stream",
     "text": [
      "Using custom data configuration default-8bab31363ef54ad0\n"
     ]
    },
    {
     "name": "stdout",
     "output_type": "stream",
     "text": [
      "Downloading and preparing dataset None/None to /home/owner/.cache/huggingface/datasets/abctreebank___parquet/default-8bab31363ef54ad0/0.0.0/2a3b91fbd88a2c90d1dbbb32b460cf621d31bd5b05b934492fdef7d8d6f236ec...\n"
     ]
    },
    {
     "data": {
      "application/vnd.jupyter.widget-view+json": {
       "model_id": "2cf9fbfe788b4fe9a74536e96acdea24",
       "version_major": 2,
       "version_minor": 0
      },
      "text/plain": [
       "Downloading data files:   0%|          | 0/2 [00:00<?, ?it/s]"
      ]
     },
     "metadata": {},
     "output_type": "display_data"
    },
    {
     "data": {
      "application/vnd.jupyter.widget-view+json": {
       "model_id": "385e8c0340384a7fb765203b651502e0",
       "version_major": 2,
       "version_minor": 0
      },
      "text/plain": [
       "Downloading data:   0%|          | 0.00/395k [00:00<?, ?B/s]"
      ]
     },
     "metadata": {},
     "output_type": "display_data"
    },
    {
     "data": {
      "application/vnd.jupyter.widget-view+json": {
       "model_id": "331413c9ee1042ebb0f1ea3678e1b06e",
       "version_major": 2,
       "version_minor": 0
      },
      "text/plain": [
       "Downloading data:   0%|          | 0.00/51.0k [00:00<?, ?B/s]"
      ]
     },
     "metadata": {},
     "output_type": "display_data"
    },
    {
     "name": "stdout",
     "output_type": "stream",
     "text": [
      "  "
     ]
    },
    {
     "data": {
      "application/vnd.jupyter.widget-view+json": {
       "model_id": "2251ea0598214b499512e2606e2c5799",
       "version_major": 2,
       "version_minor": 0
      },
      "text/plain": [
       "Extracting data files #1:   0%|          | 0/1 [00:00<?, ?obj/s]"
      ]
     },
     "metadata": {},
     "output_type": "display_data"
    },
    {
     "data": {
      "application/vnd.jupyter.widget-view+json": {
       "model_id": "5047ed1995c1420190c7584cf79274a4",
       "version_major": 2,
       "version_minor": 0
      },
      "text/plain": [
       "Extracting data files #0:   0%|          | 0/1 [00:00<?, ?obj/s]"
      ]
     },
     "metadata": {},
     "output_type": "display_data"
    },
    {
     "data": {
      "application/vnd.jupyter.widget-view+json": {
       "model_id": "0ad2da1384c34747b3f083b7582e5918",
       "version_major": 2,
       "version_minor": 0
      },
      "text/plain": [
       "Generating train split:   0%|          | 0/3115 [00:00<?, ? examples/s]"
      ]
     },
     "metadata": {},
     "output_type": "display_data"
    },
    {
     "data": {
      "application/vnd.jupyter.widget-view+json": {
       "model_id": "b61e6e697684438f933b4f22a68783bf",
       "version_major": 2,
       "version_minor": 0
      },
      "text/plain": [
       "Generating test split:   0%|          | 0/350 [00:00<?, ? examples/s]"
      ]
     },
     "metadata": {},
     "output_type": "display_data"
    },
    {
     "name": "stdout",
     "output_type": "stream",
     "text": [
      "Dataset parquet downloaded and prepared to /home/owner/.cache/huggingface/datasets/abctreebank___parquet/default-8bab31363ef54ad0/0.0.0/2a3b91fbd88a2c90d1dbbb32b460cf621d31bd5b05b934492fdef7d8d6f236ec. Subsequent calls will reuse this data.\n"
     ]
    },
    {
     "data": {
      "application/vnd.jupyter.widget-view+json": {
       "model_id": "ec3e00ef4bcc486bb064362e89b3ae6d",
       "version_major": 2,
       "version_minor": 0
      },
      "text/plain": [
       "  0%|          | 0/2 [00:00<?, ?it/s]"
      ]
     },
     "metadata": {},
     "output_type": "display_data"
    }
   ],
   "source": [
    "dataset_raw = datasets.load_dataset(\n",
    "    \"abctreebank/comparative-NER-BCCWJ\",\n",
    "    use_auth_token = True,\n",
    "    revision = \"b91b7660af70ab231111a61354463cd402c32034\",\n",
    ")"
   ]
  },
  {
   "cell_type": "markdown",
   "metadata": {},
   "source": [
    "## Training"
   ]
  },
  {
   "cell_type": "code",
   "execution_count": 5,
   "metadata": {},
   "outputs": [
    {
     "data": {
      "application/vnd.jupyter.widget-view+json": {
       "model_id": "0589b71cb34641e29d472c415a472109",
       "version_major": 2,
       "version_minor": 0
      },
      "text/plain": [
       "  0%|          | 0/98 [00:00<?, ?ba/s]"
      ]
     },
     "metadata": {},
     "output_type": "display_data"
    }
   ],
   "source": [
    "ds_train: Dataset = dataset_raw[\"train\"]\n",
    "ds_train = ds_train.map(\n",
    "    lambda E: nwr.convert_annotation_entries_to_matrices(\n",
    "        E,\n",
    "        return_type = \"pt\",\n",
    "    ),\n",
    "    batched = True,\n",
    "    batch_size = BATCH_SIZE,\n",
    "    remove_columns = ds_train.column_names,\n",
    ")"
   ]
  },
  {
   "cell_type": "code",
   "execution_count": 6,
   "metadata": {},
   "outputs": [],
   "source": [
    "# train/eval split\n",
    "ds_train_split = ds_train.train_test_split(test_size = 0.1, shuffle = True)"
   ]
  },
  {
   "cell_type": "code",
   "execution_count": 7,
   "metadata": {},
   "outputs": [
    {
     "name": "stderr",
     "output_type": "stream",
     "text": [
      "Some weights of the model checkpoint at cl-tohoku/bert-base-japanese-whole-word-masking were not used when initializing BertForTokenClassification: ['cls.predictions.transform.dense.weight', 'cls.seq_relationship.bias', 'cls.seq_relationship.weight', 'cls.predictions.decoder.weight', 'cls.predictions.transform.dense.bias', 'cls.predictions.transform.LayerNorm.weight', 'cls.predictions.transform.LayerNorm.bias', 'cls.predictions.bias']\n",
      "- This IS expected if you are initializing BertForTokenClassification from the checkpoint of a model trained on another task or with another architecture (e.g. initializing a BertForSequenceClassification model from a BertForPreTraining model).\n",
      "- This IS NOT expected if you are initializing BertForTokenClassification from the checkpoint of a model that you expect to be exactly identical (initializing a BertForSequenceClassification model from a BertForSequenceClassification model).\n",
      "Some weights of BertForTokenClassification were not initialized from the model checkpoint at cl-tohoku/bert-base-japanese-whole-word-masking and are newly initialized: ['classifier.bias', 'classifier.weight']\n",
      "You should probably TRAIN this model on a down-stream task to be able to use it for predictions and inference.\n"
     ]
    }
   ],
   "source": [
    "config = BertConfig.from_pretrained(\n",
    "    nwr.BERT_MODEL,\n",
    "    id2label = nwr.ID2LABEL,\n",
    "    label2id = nwr.LABEL2ID,\n",
    ")\n",
    "\n",
    "model = BertForTokenClassification.from_pretrained(\n",
    "    nwr.BERT_MODEL,\n",
    "    config = config,\n",
    ")\n",
    "\n",
    "training_args = TrainingArguments(\n",
    "        output_dir = OUTPUT_PATH,\n",
    "        num_train_epochs = 27,\n",
    "        per_device_train_batch_size = 64,\n",
    "        per_device_eval_batch_size = 128,\n",
    "        learning_rate = 5e-5,\n",
    "        warmup_steps = 200,\n",
    "        weight_decay = 0,\n",
    "        save_strategy = IntervalStrategy.STEPS,\n",
    "        save_steps = 1000,\n",
    "        seed = 2630987289,\n",
    "        logging_dir = f\"{OUTPUT_PATH}/logs\",\n",
    "        logging_steps= 10,\n",
    "    )\n",
    "\n",
    "trainer = Trainer(\n",
    "    model_init = lambda: model,\n",
    "    args = training_args,\n",
    "    train_dataset = ds_train_split[\"train\"],\n",
    ")"
   ]
  },
  {
   "cell_type": "code",
   "execution_count": 8,
   "metadata": {},
   "outputs": [
    {
     "name": "stderr",
     "output_type": "stream",
     "text": [
      "The following columns in the training set don't have a corresponding argument in `BertForTokenClassification.forward` and have been ignored: token_subwords. If token_subwords are not expected by `BertForTokenClassification.forward`,  you can safely ignore this message.\n",
      "/home/owner/.cache/pypoetry/virtualenvs/comparative-ner-utils-sv0RmVnD-py3.10/lib/python3.10/site-packages/transformers/optimization.py:306: FutureWarning: This implementation of AdamW is deprecated and will be removed in a future version. Use the PyTorch implementation torch.optim.AdamW instead, or set `no_deprecation_warning=True` to disable this warning\n",
      "  warnings.warn(\n",
      "***** Running training *****\n",
      "  Num examples = 2803\n",
      "  Num Epochs = 27\n",
      "  Instantaneous batch size per device = 64\n",
      "  Total train batch size (w. parallel, distributed & accumulation) = 64\n",
      "  Gradient Accumulation steps = 1\n",
      "  Total optimization steps = 1188\n",
      "  Number of trainable parameters = 110031366\n"
     ]
    },
    {
     "data": {
      "application/vnd.jupyter.widget-view+json": {
       "model_id": "7e172496637b44a1acc211a8af1759d8",
       "version_major": 2,
       "version_minor": 0
      },
      "text/plain": [
       "  0%|          | 0/1188 [00:00<?, ?it/s]"
      ]
     },
     "metadata": {},
     "output_type": "display_data"
    },
    {
     "name": "stdout",
     "output_type": "stream",
     "text": [
      "{'loss': 1.7391, 'learning_rate': 2.5e-06, 'epoch': 0.23}\n",
      "{'loss': 1.48, 'learning_rate': 5e-06, 'epoch': 0.45}\n",
      "{'loss': 0.9458, 'learning_rate': 7.5e-06, 'epoch': 0.68}\n",
      "{'loss': 0.3415, 'learning_rate': 1e-05, 'epoch': 0.91}\n",
      "{'loss': 0.2201, 'learning_rate': 1.25e-05, 'epoch': 1.14}\n",
      "{'loss': 0.1517, 'learning_rate': 1.5e-05, 'epoch': 1.36}\n",
      "{'loss': 0.1165, 'learning_rate': 1.75e-05, 'epoch': 1.59}\n",
      "{'loss': 0.0927, 'learning_rate': 2e-05, 'epoch': 1.82}\n",
      "{'loss': 0.0753, 'learning_rate': 2.25e-05, 'epoch': 2.05}\n",
      "{'loss': 0.0613, 'learning_rate': 2.5e-05, 'epoch': 2.27}\n",
      "{'loss': 0.0509, 'learning_rate': 2.7500000000000004e-05, 'epoch': 2.5}\n",
      "{'loss': 0.05, 'learning_rate': 3e-05, 'epoch': 2.73}\n",
      "{'loss': 0.0481, 'learning_rate': 3.2500000000000004e-05, 'epoch': 2.95}\n",
      "{'loss': 0.0402, 'learning_rate': 3.5e-05, 'epoch': 3.18}\n",
      "{'loss': 0.0351, 'learning_rate': 3.7500000000000003e-05, 'epoch': 3.41}\n",
      "{'loss': 0.0304, 'learning_rate': 4e-05, 'epoch': 3.64}\n",
      "{'loss': 0.0337, 'learning_rate': 4.25e-05, 'epoch': 3.86}\n",
      "{'loss': 0.028, 'learning_rate': 4.5e-05, 'epoch': 4.09}\n",
      "{'loss': 0.0221, 'learning_rate': 4.75e-05, 'epoch': 4.32}\n",
      "{'loss': 0.0238, 'learning_rate': 5e-05, 'epoch': 4.55}\n",
      "{'loss': 0.0231, 'learning_rate': 4.9493927125506076e-05, 'epoch': 4.77}\n",
      "{'loss': 0.0263, 'learning_rate': 4.898785425101215e-05, 'epoch': 5.0}\n",
      "{'loss': 0.0161, 'learning_rate': 4.848178137651822e-05, 'epoch': 5.23}\n",
      "{'loss': 0.0174, 'learning_rate': 4.797570850202429e-05, 'epoch': 5.45}\n",
      "{'loss': 0.0171, 'learning_rate': 4.746963562753037e-05, 'epoch': 5.68}\n",
      "{'loss': 0.0171, 'learning_rate': 4.6963562753036435e-05, 'epoch': 5.91}\n",
      "{'loss': 0.0155, 'learning_rate': 4.6457489878542516e-05, 'epoch': 6.14}\n",
      "{'loss': 0.012, 'learning_rate': 4.595141700404859e-05, 'epoch': 6.36}\n",
      "{'loss': 0.0122, 'learning_rate': 4.5445344129554655e-05, 'epoch': 6.59}\n",
      "{'loss': 0.0142, 'learning_rate': 4.4939271255060735e-05, 'epoch': 6.82}\n",
      "{'loss': 0.012, 'learning_rate': 4.44331983805668e-05, 'epoch': 7.05}\n",
      "{'loss': 0.0116, 'learning_rate': 4.3927125506072875e-05, 'epoch': 7.27}\n",
      "{'loss': 0.0109, 'learning_rate': 4.342105263157895e-05, 'epoch': 7.5}\n",
      "{'loss': 0.0105, 'learning_rate': 4.291497975708502e-05, 'epoch': 7.73}\n",
      "{'loss': 0.0084, 'learning_rate': 4.2408906882591095e-05, 'epoch': 7.95}\n",
      "{'loss': 0.0082, 'learning_rate': 4.190283400809717e-05, 'epoch': 8.18}\n",
      "{'loss': 0.0088, 'learning_rate': 4.139676113360324e-05, 'epoch': 8.41}\n",
      "{'loss': 0.0092, 'learning_rate': 4.089068825910931e-05, 'epoch': 8.64}\n",
      "{'loss': 0.0079, 'learning_rate': 4.038461538461539e-05, 'epoch': 8.86}\n",
      "{'loss': 0.0077, 'learning_rate': 3.9878542510121455e-05, 'epoch': 9.09}\n",
      "{'loss': 0.0074, 'learning_rate': 3.9372469635627535e-05, 'epoch': 9.32}\n",
      "{'loss': 0.0077, 'learning_rate': 3.886639676113361e-05, 'epoch': 9.55}\n",
      "{'loss': 0.0074, 'learning_rate': 3.8360323886639675e-05, 'epoch': 9.77}\n",
      "{'loss': 0.0066, 'learning_rate': 3.7854251012145755e-05, 'epoch': 10.0}\n",
      "{'loss': 0.0056, 'learning_rate': 3.734817813765182e-05, 'epoch': 10.23}\n",
      "{'loss': 0.0059, 'learning_rate': 3.6842105263157895e-05, 'epoch': 10.45}\n",
      "{'loss': 0.0057, 'learning_rate': 3.633603238866397e-05, 'epoch': 10.68}\n",
      "{'loss': 0.0067, 'learning_rate': 3.582995951417004e-05, 'epoch': 10.91}\n",
      "{'loss': 0.0057, 'learning_rate': 3.5323886639676115e-05, 'epoch': 11.14}\n",
      "{'loss': 0.0045, 'learning_rate': 3.481781376518219e-05, 'epoch': 11.36}\n",
      "{'loss': 0.0056, 'learning_rate': 3.431174089068826e-05, 'epoch': 11.59}\n",
      "{'loss': 0.0052, 'learning_rate': 3.3805668016194335e-05, 'epoch': 11.82}\n",
      "{'loss': 0.0051, 'learning_rate': 3.329959514170041e-05, 'epoch': 12.05}\n",
      "{'loss': 0.0043, 'learning_rate': 3.279352226720648e-05, 'epoch': 12.27}\n",
      "{'loss': 0.0044, 'learning_rate': 3.2287449392712554e-05, 'epoch': 12.5}\n",
      "{'loss': 0.0044, 'learning_rate': 3.178137651821863e-05, 'epoch': 12.73}\n",
      "{'loss': 0.0041, 'learning_rate': 3.1275303643724694e-05, 'epoch': 12.95}\n",
      "{'loss': 0.0032, 'learning_rate': 3.0769230769230774e-05, 'epoch': 13.18}\n",
      "{'loss': 0.0039, 'learning_rate': 3.0263157894736844e-05, 'epoch': 13.41}\n",
      "{'loss': 0.0042, 'learning_rate': 2.9757085020242914e-05, 'epoch': 13.64}\n",
      "{'loss': 0.0036, 'learning_rate': 2.925101214574899e-05, 'epoch': 13.86}\n",
      "{'loss': 0.004, 'learning_rate': 2.874493927125506e-05, 'epoch': 14.09}\n",
      "{'loss': 0.0038, 'learning_rate': 2.823886639676113e-05, 'epoch': 14.32}\n",
      "{'loss': 0.0035, 'learning_rate': 2.7732793522267207e-05, 'epoch': 14.55}\n",
      "{'loss': 0.0036, 'learning_rate': 2.722672064777328e-05, 'epoch': 14.77}\n",
      "{'loss': 0.0031, 'learning_rate': 2.6720647773279357e-05, 'epoch': 15.0}\n",
      "{'loss': 0.0031, 'learning_rate': 2.6214574898785427e-05, 'epoch': 15.23}\n",
      "{'loss': 0.0029, 'learning_rate': 2.5708502024291497e-05, 'epoch': 15.45}\n",
      "{'loss': 0.0029, 'learning_rate': 2.5202429149797574e-05, 'epoch': 15.68}\n",
      "{'loss': 0.0032, 'learning_rate': 2.4696356275303644e-05, 'epoch': 15.91}\n",
      "{'loss': 0.0043, 'learning_rate': 2.4190283400809717e-05, 'epoch': 16.14}\n",
      "{'loss': 0.0025, 'learning_rate': 2.368421052631579e-05, 'epoch': 16.36}\n",
      "{'loss': 0.0022, 'learning_rate': 2.3178137651821864e-05, 'epoch': 16.59}\n",
      "{'loss': 0.0028, 'learning_rate': 2.2672064777327937e-05, 'epoch': 16.82}\n",
      "{'loss': 0.0023, 'learning_rate': 2.216599190283401e-05, 'epoch': 17.05}\n",
      "{'loss': 0.0025, 'learning_rate': 2.165991902834008e-05, 'epoch': 17.27}\n",
      "{'loss': 0.0027, 'learning_rate': 2.1153846153846154e-05, 'epoch': 17.5}\n",
      "{'loss': 0.0025, 'learning_rate': 2.0647773279352227e-05, 'epoch': 17.73}\n",
      "{'loss': 0.002, 'learning_rate': 2.0141700404858304e-05, 'epoch': 17.95}\n",
      "{'loss': 0.0023, 'learning_rate': 1.9635627530364373e-05, 'epoch': 18.18}\n",
      "{'loss': 0.0018, 'learning_rate': 1.9129554655870447e-05, 'epoch': 18.41}\n",
      "{'loss': 0.0023, 'learning_rate': 1.862348178137652e-05, 'epoch': 18.64}\n",
      "{'loss': 0.002, 'learning_rate': 1.811740890688259e-05, 'epoch': 18.86}\n",
      "{'loss': 0.002, 'learning_rate': 1.7611336032388663e-05, 'epoch': 19.09}\n",
      "{'loss': 0.002, 'learning_rate': 1.7105263157894737e-05, 'epoch': 19.32}\n",
      "{'loss': 0.002, 'learning_rate': 1.6599190283400813e-05, 'epoch': 19.55}\n",
      "{'loss': 0.0021, 'learning_rate': 1.6093117408906883e-05, 'epoch': 19.77}\n",
      "{'loss': 0.0021, 'learning_rate': 1.5587044534412957e-05, 'epoch': 20.0}\n",
      "{'loss': 0.0019, 'learning_rate': 1.508097165991903e-05, 'epoch': 20.23}\n",
      "{'loss': 0.002, 'learning_rate': 1.4574898785425101e-05, 'epoch': 20.45}\n",
      "{'loss': 0.0018, 'learning_rate': 1.4068825910931175e-05, 'epoch': 20.68}\n",
      "{'loss': 0.0019, 'learning_rate': 1.3562753036437248e-05, 'epoch': 20.91}\n",
      "{'loss': 0.0016, 'learning_rate': 1.3056680161943321e-05, 'epoch': 21.14}\n",
      "{'loss': 0.0017, 'learning_rate': 1.2550607287449393e-05, 'epoch': 21.36}\n",
      "{'loss': 0.0017, 'learning_rate': 1.2044534412955466e-05, 'epoch': 21.59}\n",
      "{'loss': 0.0018, 'learning_rate': 1.153846153846154e-05, 'epoch': 21.82}\n",
      "{'loss': 0.0016, 'learning_rate': 1.1032388663967611e-05, 'epoch': 22.05}\n",
      "{'loss': 0.0015, 'learning_rate': 1.0526315789473684e-05, 'epoch': 22.27}\n",
      "{'loss': 0.0013, 'learning_rate': 1.0020242914979758e-05, 'epoch': 22.5}\n"
     ]
    },
    {
     "name": "stderr",
     "output_type": "stream",
     "text": [
      "Saving model checkpoint to ../../results_2022-12-27/checkpoint-1000\n",
      "Configuration saved in ../../results_2022-12-27/checkpoint-1000/config.json\n"
     ]
    },
    {
     "name": "stdout",
     "output_type": "stream",
     "text": [
      "{'loss': 0.0015, 'learning_rate': 9.51417004048583e-06, 'epoch': 22.73}\n"
     ]
    },
    {
     "name": "stderr",
     "output_type": "stream",
     "text": [
      "Model weights saved in ../../results_2022-12-27/checkpoint-1000/pytorch_model.bin\n"
     ]
    },
    {
     "name": "stdout",
     "output_type": "stream",
     "text": [
      "{'loss': 0.0017, 'learning_rate': 9.008097165991904e-06, 'epoch': 22.95}\n",
      "{'loss': 0.0014, 'learning_rate': 8.502024291497976e-06, 'epoch': 23.18}\n",
      "{'loss': 0.0016, 'learning_rate': 7.99595141700405e-06, 'epoch': 23.41}\n",
      "{'loss': 0.0015, 'learning_rate': 7.489878542510122e-06, 'epoch': 23.64}\n",
      "{'loss': 0.0015, 'learning_rate': 6.983805668016195e-06, 'epoch': 23.86}\n",
      "{'loss': 0.0014, 'learning_rate': 6.4777327935222675e-06, 'epoch': 24.09}\n",
      "{'loss': 0.0016, 'learning_rate': 5.971659919028341e-06, 'epoch': 24.32}\n",
      "{'loss': 0.0012, 'learning_rate': 5.465587044534413e-06, 'epoch': 24.55}\n",
      "{'loss': 0.0013, 'learning_rate': 4.9595141700404865e-06, 'epoch': 24.77}\n",
      "{'loss': 0.0014, 'learning_rate': 4.453441295546559e-06, 'epoch': 25.0}\n",
      "{'loss': 0.0013, 'learning_rate': 3.9473684210526315e-06, 'epoch': 25.23}\n",
      "{'loss': 0.0012, 'learning_rate': 3.4412955465587043e-06, 'epoch': 25.45}\n",
      "{'loss': 0.0013, 'learning_rate': 2.9352226720647772e-06, 'epoch': 25.68}\n",
      "{'loss': 0.0014, 'learning_rate': 2.4291497975708505e-06, 'epoch': 25.91}\n",
      "{'loss': 0.0016, 'learning_rate': 1.9230769230769234e-06, 'epoch': 26.14}\n",
      "{'loss': 0.0012, 'learning_rate': 1.417004048582996e-06, 'epoch': 26.36}\n",
      "{'loss': 0.0011, 'learning_rate': 9.109311740890688e-07, 'epoch': 26.59}\n",
      "{'loss': 0.0011, 'learning_rate': 4.048582995951417e-07, 'epoch': 26.82}\n"
     ]
    },
    {
     "name": "stderr",
     "output_type": "stream",
     "text": [
      "\n",
      "\n",
      "Training completed. Do not forget to share your model on huggingface.co/models =)\n",
      "\n",
      "\n",
      "Saving model checkpoint to ../../results_2022-12-27\n",
      "Configuration saved in ../../results_2022-12-27/config.json\n"
     ]
    },
    {
     "name": "stdout",
     "output_type": "stream",
     "text": [
      "{'train_runtime': 643.5029, 'train_samples_per_second': 117.608, 'train_steps_per_second': 1.846, 'train_loss': 0.05119953726603327, 'epoch': 27.0}\n"
     ]
    },
    {
     "name": "stderr",
     "output_type": "stream",
     "text": [
      "Model weights saved in ../../results_2022-12-27/pytorch_model.bin\n"
     ]
    }
   ],
   "source": [
    "trainer.train()\n",
    "trainer.save_state()\n",
    "trainer.save_model()"
   ]
  },
  {
   "cell_type": "code",
   "execution_count": 23,
   "metadata": {},
   "outputs": [
    {
     "name": "stderr",
     "output_type": "stream",
     "text": [
      "Configuration saved in /tmp/tmpifit4vw4/config.json\n",
      "Model weights saved in /tmp/tmpifit4vw4/pytorch_model.bin\n",
      "Uploading the following files to abctreebank/comparative-NER-with-root: config.json,pytorch_model.bin\n",
      "tokenizer config file saved in /tmp/tmp8v3h2m_g/tokenizer_config.json\n",
      "Special tokens file saved in /tmp/tmp8v3h2m_g/special_tokens_map.json\n",
      "Uploading the following files to abctreebank/comparative-NER-with-root: vocab.txt,special_tokens_map.json,tokenizer_config.json\n"
     ]
    },
    {
     "data": {
      "text/plain": [
       "CommitInfo(commit_url='https://huggingface.co/abctreebank/comparative-NER-with-root/commit/9cc8fa8cd2b69169be881020fc630acecf57ed3f', commit_message='Upload tokenizer', commit_description='', oid='9cc8fa8cd2b69169be881020fc630acecf57ed3f', pr_url=None, pr_revision=None, pr_num=None)"
      ]
     },
     "execution_count": 23,
     "metadata": {},
     "output_type": "execute_result"
    }
   ],
   "source": [
    "model.name_or_path = \"cl-tohoku/bert-base-japanese-whole-word-masking\"\n",
    "\n",
    "# # To push:\n",
    "# model.push_to_hub(\n",
    "#     \"abctreebank/comparative-NER-with-root\",\n",
    "#     private = True,\n",
    "#     use_auth_token = True,\n",
    "# )\n",
    "# tokenizer.push_to_hub(\n",
    "#     \"abctreebank/comparative-NER-with-root\",\n",
    "#     private = True,\n",
    "#     use_auth_token = True,\n",
    "# )"
   ]
  },
  {
   "cell_type": "markdown",
   "metadata": {},
   "source": [
    "## Evaluating"
   ]
  },
  {
   "cell_type": "code",
   "execution_count": 9,
   "metadata": {},
   "outputs": [
    {
     "name": "stderr",
     "output_type": "stream",
     "text": [
      "loading configuration file ../../results_2022-12-27/config.json\n",
      "Model config BertConfig {\n",
      "  \"_name_or_path\": \"cl-tohoku/bert-base-japanese-whole-word-masking\",\n",
      "  \"architectures\": [\n",
      "    \"BertForTokenClassification\"\n",
      "  ],\n",
      "  \"attention_probs_dropout_prob\": 0.1,\n",
      "  \"classifier_dropout\": null,\n",
      "  \"hidden_act\": \"gelu\",\n",
      "  \"hidden_dropout_prob\": 0.1,\n",
      "  \"hidden_size\": 768,\n",
      "  \"id2label\": {\n",
      "    \"0\": \"O\",\n",
      "    \"1\": \"deg\",\n",
      "    \"2\": \"prej\",\n",
      "    \"3\": \"cont\",\n",
      "    \"4\": \"diff\",\n",
      "    \"5\": \"root\"\n",
      "  },\n",
      "  \"initializer_range\": 0.02,\n",
      "  \"intermediate_size\": 3072,\n",
      "  \"label2id\": {\n",
      "    \"IGNORE\": -100,\n",
      "    \"O\": 0,\n",
      "    \"cont\": 3,\n",
      "    \"deg\": 1,\n",
      "    \"diff\": 4,\n",
      "    \"prej\": 2,\n",
      "    \"root\": 5\n",
      "  },\n",
      "  \"layer_norm_eps\": 1e-12,\n",
      "  \"max_position_embeddings\": 512,\n",
      "  \"model_type\": \"bert\",\n",
      "  \"num_attention_heads\": 12,\n",
      "  \"num_hidden_layers\": 12,\n",
      "  \"pad_token_id\": 0,\n",
      "  \"position_embedding_type\": \"absolute\",\n",
      "  \"tokenizer_class\": \"BertJapaneseTokenizer\",\n",
      "  \"torch_dtype\": \"float32\",\n",
      "  \"transformers_version\": \"4.25.1\",\n",
      "  \"type_vocab_size\": 2,\n",
      "  \"use_cache\": true,\n",
      "  \"vocab_size\": 32000\n",
      "}\n",
      "\n",
      "loading weights file ../../results_2022-12-27/pytorch_model.bin\n",
      "All model checkpoint weights were used when initializing BertForTokenClassification.\n",
      "\n",
      "All the weights of BertForTokenClassification were initialized from the model checkpoint at ../../results_2022-12-27.\n",
      "If your task is similar to the task the model of the checkpoint was trained on, you can already use BertForTokenClassification for predictions without further training.\n"
     ]
    }
   ],
   "source": [
    "SAVED_PATH = OUTPUT_PATH\n",
    "\n",
    "model = BertForTokenClassification.from_pretrained(\n",
    "    SAVED_PATH,\n",
    ").cuda()"
   ]
  },
  {
   "cell_type": "code",
   "execution_count": 10,
   "metadata": {},
   "outputs": [
    {
     "data": {
      "application/vnd.jupyter.widget-view+json": {
       "model_id": "b8deebfdd2c84f14b912adce84c200f4",
       "version_major": 2,
       "version_minor": 0
      },
      "text/plain": [
       "  0%|          | 0/11 [00:00<?, ?ba/s]"
      ]
     },
     "metadata": {},
     "output_type": "display_data"
    }
   ],
   "source": [
    "ds_test = dataset_raw[\"test\"].map(\n",
    "    lambda E: nwr.convert_annotation_entries_to_matrices(\n",
    "        E,\n",
    "        return_type = \"pt\",\n",
    "    ),\n",
    "    batched = True,\n",
    "    batch_size = BATCH_SIZE,\n",
    ")"
   ]
  },
  {
   "cell_type": "code",
   "execution_count": 11,
   "metadata": {},
   "outputs": [
    {
     "data": {
      "application/vnd.jupyter.widget-view+json": {
       "model_id": "37ea3a95c99c41e795630dd14f3fb986",
       "version_major": 2,
       "version_minor": 0
      },
      "text/plain": [
       "  0%|          | 0/11 [00:00<?, ?ba/s]"
      ]
     },
     "metadata": {},
     "output_type": "display_data"
    }
   ],
   "source": [
    "def _predict(\n",
    "    examples: datasets.arrow_dataset.Batch\n",
    "):\n",
    "    predictions_raw = model.forward(\n",
    "        input_ids = torch.tensor(examples[\"input_ids\"]).cuda(),\n",
    "        attention_mask = torch.tensor(examples[\"attention_mask\"]).cuda(),\n",
    "        token_type_ids  = torch.tensor(examples[\"token_type_ids\"]).cuda(),\n",
    "        return_dict = True,\n",
    "    )\n",
    "\n",
    "    examples[\"label_ids_predicted\"] = (\n",
    "        predictions_raw.logits\n",
    "        .argmax(dim = 2,)\n",
    "        .detach()\n",
    "        .cpu()\n",
    "        .numpy()\n",
    "    )\n",
    "\n",
    "    return examples\n",
    "# === END ===\n",
    "\n",
    "ds_test = ds_test.map(\n",
    "    lambda e: (\n",
    "        nwr.convert_predictions_to_annotations(\n",
    "            nwr.convert_predictions_to_annotations(\n",
    "                _predict(e),\n",
    "                label_ids_key = \"label_ids_predicted\",\n",
    "                comp_key = \"comp_predicted\",\n",
    "            ),\n",
    "            label_ids_key = \"label_ids\",\n",
    "            comp_key = \"comp_subword_aligned\",\n",
    "        )\n",
    "    ),\n",
    "    batched = True,\n",
    "    batch_size = BATCH_SIZE,\n",
    ")"
   ]
  },
  {
   "cell_type": "code",
   "execution_count": 12,
   "metadata": {},
   "outputs": [],
   "source": [
    "metric = nwr.NERWithRootMetrics()\n",
    "metric.add_batch(\n",
    "    predictions = ds_test[\"label_ids_predicted\"],\n",
    "    references = ds_test[\"label_ids\"],\n",
    ")\n",
    "metric_result = metric.compute()\n",
    "ds_test_with_alignments = ds_test.add_column(\n",
    "    \"alignments\",\n",
    "    metric_result[\"alignments\"],\n",
    ")"
   ]
  },
  {
   "cell_type": "code",
   "execution_count": 13,
   "metadata": {},
   "outputs": [
    {
     "data": {
      "application/vnd.jupyter.widget-view+json": {
       "model_id": "b2f66820a8a647749ba596af3c860ce1",
       "version_major": 2,
       "version_minor": 0
      },
      "text/plain": [
       "  0%|          | 0/11 [00:00<?, ?ba/s]"
      ]
     },
     "metadata": {},
     "output_type": "display_data"
    }
   ],
   "source": [
    "def _linearize_comp(\n",
    "    batch: datasets.arrow_dataset.Batch\n",
    ") -> datasets.arrow_dataset.Batch:\n",
    "    ls_reference_linear = []\n",
    "    ls_prediction_linear = []\n",
    "    batch_size = len(batch[\"ID\"])\n",
    "\n",
    "    for i in range(batch_size):\n",
    "        ID = batch[\"ID\"][i]\n",
    "        tokens = tuple(\n",
    "                    itertools.takewhile(\n",
    "                lambda t: t not in (\"[SEP]\", \"[PAD]\"),\n",
    "                batch[\"token_subwords\"][i]\n",
    "            )\n",
    "        )\n",
    "\n",
    "        ls_reference_linear.append(\n",
    "            aoc.linearize_annotations(\n",
    "                tokens,\n",
    "                batch[\"comp_subword_aligned\"][i],\n",
    "            )\n",
    "        )\n",
    "        ls_prediction_linear.append(\n",
    "            aoc.linearize_annotations(\n",
    "                tokens,\n",
    "                batch[\"comp_predicted\"][i],\n",
    "            )\n",
    "        )\n",
    "\n",
    "    batch[\"reference_linear\"] = ls_reference_linear\n",
    "    batch[\"prediction_linear\"] = ls_prediction_linear\n",
    "\n",
    "    return batch\n",
    "\n",
    "ds_test_with_alignments = ds_test_with_alignments.map(\n",
    "    _linearize_comp,\n",
    "    batched = True,\n",
    "    batch_size = BATCH_SIZE,\n",
    ")\n",
    "\n",
    "ds_test_dump = ds_test_with_alignments.remove_columns(\n",
    "    [\n",
    "        col for col in ds_test_with_alignments.column_names\n",
    "        if col not in (\n",
    "            \"ID\",\n",
    "            \"prediction_linear\",\n",
    "            \"reference_linear\",\n",
    "            \"alignments\",\n",
    "        )\n",
    "    ]\n",
    ")"
   ]
  },
  {
   "cell_type": "code",
   "execution_count": 14,
   "metadata": {},
   "outputs": [],
   "source": [
    "yaml = ruamel.yaml.YAML()\n",
    "with open(\"./result.yaml\", \"w\") as f:\n",
    "    yaml.dump(\n",
    "        [entry for entry in ds_test_dump],\n",
    "        f\n",
    "    )"
   ]
  },
  {
   "cell_type": "code",
   "execution_count": 15,
   "metadata": {},
   "outputs": [],
   "source": [
    "metric_result[\"scores_spanwise\"] = { \n",
    "    str(k) : v\n",
    "    for k, v in metric_result[\"scores_spanwise\"].items()\n",
    "}"
   ]
  },
  {
   "cell_type": "code",
   "execution_count": 16,
   "metadata": {},
   "outputs": [
    {
     "data": {
      "text/plain": [
       "0.7828014030294053"
      ]
     },
     "execution_count": 16,
     "metadata": {},
     "output_type": "execute_result"
    }
   ],
   "source": [
    "metric_result[\"F1_partial_average\"]"
   ]
  },
  {
   "cell_type": "code",
   "execution_count": 17,
   "metadata": {},
   "outputs": [
    {
     "data": {
      "text/plain": [
       "0.6797199253987477"
      ]
     },
     "execution_count": 17,
     "metadata": {},
     "output_type": "execute_result"
    }
   ],
   "source": [
    "metric_result[\"F1_strict_average\"]\n"
   ]
  },
  {
   "cell_type": "code",
   "execution_count": 18,
   "metadata": {},
   "outputs": [
    {
     "name": "stdout",
     "output_type": "stream",
     "text": [
      "root\n",
      "0.6705882352941176\n",
      "0.4823529411764706\n",
      "\n",
      "cont\n",
      "0.6948356807511737\n",
      "0.5586854460093897\n",
      "\n",
      "prej\n",
      "0.8886956521739129\n",
      "0.8521739130434782\n",
      "\n",
      "diff\n",
      "0.8362573099415204\n",
      "0.7485380116959065\n",
      "\n",
      "deg\n",
      "0.8236301369863015\n",
      "0.7568493150684932\n",
      "\n"
     ]
    }
   ],
   "source": [
    "for label, res in metric_result[\"scores_spanwise\"].items():\n",
    "    print(label)\n",
    "    print(res[\"F1_partial\"])\n",
    "    print(res[\"F1_strict\"])\n",
    "    print()"
   ]
  },
  {
   "cell_type": "code",
   "execution_count": 19,
   "metadata": {},
   "outputs": [],
   "source": [
    "yaml = ruamel.yaml.YAML()\n",
    "with open(\"scores.yaml\", \"w\") as g:\n",
    "    yaml.dump(\n",
    "        {\n",
    "            k : v for k, v in metric_result.items()\n",
    "            if k != \"alignments\"\n",
    "        },\n",
    "        stream = g,\n",
    "    )"
   ]
  }
 ],
 "metadata": {
  "kernelspec": {
   "display_name": "Python 3.10.4 ('comparative-ner-utils-sv0RmVnD-py3.10')",
   "language": "python",
   "name": "python3"
  },
  "language_info": {
   "codemirror_mode": {
    "name": "ipython",
    "version": 3
   },
   "file_extension": ".py",
   "mimetype": "text/x-python",
   "name": "python",
   "nbconvert_exporter": "python",
   "pygments_lexer": "ipython3",
   "version": "3.10.4"
  },
  "orig_nbformat": 4,
  "vscode": {
   "interpreter": {
    "hash": "98ff88495b25d3c68e7ba2c5383ef33c76229d3a0872ace53e941ddd39c21b36"
   }
  }
 },
 "nbformat": 4,
 "nbformat_minor": 2
}
