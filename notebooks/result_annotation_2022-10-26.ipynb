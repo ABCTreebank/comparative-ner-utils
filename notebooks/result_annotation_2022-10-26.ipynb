{
 "cells": [
  {
   "cell_type": "code",
   "execution_count": 16,
   "metadata": {},
   "outputs": [],
   "source": [
    "import attr\n",
    "import numpy as np\n",
    "import pandas as pd\n",
    "\n",
    "import abct_comp_ner_utils.brackets as br\n",
    "\n",
    "with open(\"../../comp-proto/NER-test-result_2022-08-22/NER-test-result_2022-08-22.txt\") as file:\n",
    "    data = tuple(\n",
    "        attr.asdict(item)\n",
    "        for item in br.parse_test_analysis_file(file)\n",
    "    )"
   ]
  },
  {
   "cell_type": "code",
   "execution_count": 17,
   "metadata": {},
   "outputs": [],
   "source": [
    "df = pd.DataFrame(data)\n",
    "# filter out irrelevant examples\n",
    "df = df[df[\"cont_role\"] != \"none\"]\n",
    "\n",
    "# set IDs as indices\n",
    "df.index = pd.Index(df[\"data_ref\"].map(lambda i: i[\"ID\"]), name = \"ID\")\n",
    "\n",
    "# extract the info of whether predictions are correct or not\n",
    "df[\"is_correct\"] = df[\"annot_labels\"].map(lambda i: \"correct\" in i)"
   ]
  },
  {
   "cell_type": "code",
   "execution_count": 18,
   "metadata": {},
   "outputs": [],
   "source": [
    "from typing import Iterable, Any\n",
    "\n",
    "def get_prej_cont_rel(comps: Iterable[dict[str, Any]]) -> str:\n",
    "    list_cont = tuple(\n",
    "        c for c in comps \n",
    "        if c[\"label\"] == \"cont\"\n",
    "    )\n",
    "    list_prej = tuple(\n",
    "        c for c in comps \n",
    "        if c[\"label\"] == \"prej\"\n",
    "    )\n",
    "    if list_cont:\n",
    "        # get the start number\n",
    "        cont_start = min(100000, 100000, *(item[\"start\"] for item in list_cont))\n",
    "        prej_end: int = max(0, 0, *(item[\"end\"] for item in list_prej))\n",
    "\n",
    "        if prej_end <= cont_start:\n",
    "            return \"prej < cont\"\n",
    "        else:\n",
    "            return \"cont <= prej\"\n",
    "    else:\n",
    "        return \"cont_not_appearing\"\n",
    "\n",
    "df[\"prej-cont-rel\"] = df[\"data_ref\"].map(\n",
    "    lambda i: get_prej_cont_rel(i[\"comp\"])\n",
    ")"
   ]
  },
  {
   "cell_type": "code",
   "execution_count": 31,
   "metadata": {},
   "outputs": [
    {
     "data": {
      "text/plain": [
       "0.5595667870036101"
      ]
     },
     "execution_count": 31,
     "metadata": {},
     "output_type": "execute_result"
    }
   ],
   "source": [
    "# 全体の正答率\n",
    "# contがあっているかどうか，というよりは，diff, prej全体を含めてあっているかどうかの率。\n",
    "# なので，やや低めに出る。\n",
    "df[\"is_correct\"].mean()"
   ]
  },
  {
   "cell_type": "code",
   "execution_count": 19,
   "metadata": {},
   "outputs": [
    {
     "data": {
      "text/plain": [
       "prej-cont-rel\n",
       "cont <= prej          122\n",
       "cont_not_appearing     75\n",
       "prej < cont            80\n",
       "Name: is_correct, dtype: int64"
      ]
     },
     "execution_count": 19,
     "metadata": {},
     "output_type": "execute_result"
    }
   ],
   "source": [
    "# prej-contの順番・有無による予測の成否を調べる。\n",
    "# まずは分布\n",
    "df[\"is_correct\"].groupby(df[\"prej-cont-rel\"]).count()"
   ]
  },
  {
   "cell_type": "code",
   "execution_count": 20,
   "metadata": {},
   "outputs": [
    {
     "data": {
      "text/plain": [
       "prej-cont-rel\n",
       "cont <= prej          0.508197\n",
       "cont_not_appearing    0.666667\n",
       "prej < cont           0.537500\n",
       "Name: is_correct, dtype: float64"
      ]
     },
     "execution_count": 20,
     "metadata": {},
     "output_type": "execute_result"
    }
   ],
   "source": [
    "# 成否の割合\n",
    "df[\"is_correct\"].groupby(df[\"prej-cont-rel\"]).mean()\n",
    "\n",
    "# contrastがcovertならばprecisionがやや高い。あとはあんまり相関がない。"
   ]
  },
  {
   "cell_type": "code",
   "execution_count": 33,
   "metadata": {},
   "outputs": [
    {
     "data": {
      "text/plain": [
       "cont_role\n",
       "ADV        14\n",
       "O          15\n",
       "PRED        2\n",
       "S         127\n",
       "S1         16\n",
       "covert     73\n",
       "rchead     30\n",
       "Name: is_correct, dtype: int64"
      ]
     },
     "execution_count": 33,
     "metadata": {},
     "output_type": "execute_result"
    }
   ],
   "source": [
    "# 次に，contrastの文法的役割による予測の成否を調べる。\n",
    "# まずは分布\n",
    "df[\"is_correct\"].groupby(df[\"cont_role\"]).count()\n",
    "\n",
    "# Sが多い。次にcovertなもの。\n",
    "# O, ADVは少ない。"
   ]
  },
  {
   "cell_type": "code",
   "execution_count": 23,
   "metadata": {},
   "outputs": [
    {
     "data": {
      "text/plain": [
       "cont_role\n",
       "ADV       0.500000\n",
       "O         0.600000\n",
       "PRED      0.500000\n",
       "S         0.590551\n",
       "S1        0.750000\n",
       "covert    0.698630\n",
       "rchead    0.000000\n",
       "Name: is_correct, dtype: float64"
      ]
     },
     "execution_count": 23,
     "metadata": {},
     "output_type": "execute_result"
    }
   ],
   "source": [
    "# 次に割合\n",
    "\n",
    "df[\"is_correct\"].groupby(df[\"cont_role\"]).mean()\n",
    "\n",
    "# contrastが主語，目的語，二重主語の第一主語（S1），covertの場合にはprecisionが高い。\n",
    "# あとは独立。\n",
    "# rchead（関係節）については，アノテーションの関係で0%。"
   ]
  },
  {
   "cell_type": "code",
   "execution_count": 30,
   "metadata": {},
   "outputs": [
    {
     "data": {
      "text/html": [
       "<div>\n",
       "<style scoped>\n",
       "    .dataframe tbody tr th:only-of-type {\n",
       "        vertical-align: middle;\n",
       "    }\n",
       "\n",
       "    .dataframe tbody tr th {\n",
       "        vertical-align: top;\n",
       "    }\n",
       "\n",
       "    .dataframe thead tr th {\n",
       "        text-align: left;\n",
       "    }\n",
       "\n",
       "    .dataframe thead tr:last-of-type th {\n",
       "        text-align: right;\n",
       "    }\n",
       "</style>\n",
       "<table border=\"1\" class=\"dataframe\">\n",
       "  <thead>\n",
       "    <tr>\n",
       "      <th></th>\n",
       "      <th colspan=\"3\" halign=\"left\">count</th>\n",
       "      <th colspan=\"3\" halign=\"left\">mean</th>\n",
       "    </tr>\n",
       "    <tr>\n",
       "      <th>prej-cont-rel</th>\n",
       "      <th>cont &lt;= prej</th>\n",
       "      <th>cont_not_appearing</th>\n",
       "      <th>prej &lt; cont</th>\n",
       "      <th>cont &lt;= prej</th>\n",
       "      <th>cont_not_appearing</th>\n",
       "      <th>prej &lt; cont</th>\n",
       "    </tr>\n",
       "    <tr>\n",
       "      <th>cont_role</th>\n",
       "      <th></th>\n",
       "      <th></th>\n",
       "      <th></th>\n",
       "      <th></th>\n",
       "      <th></th>\n",
       "      <th></th>\n",
       "    </tr>\n",
       "  </thead>\n",
       "  <tbody>\n",
       "    <tr>\n",
       "      <th>ADV</th>\n",
       "      <td>8.0</td>\n",
       "      <td>3.0</td>\n",
       "      <td>3.0</td>\n",
       "      <td>0.500000</td>\n",
       "      <td>0.666667</td>\n",
       "      <td>0.333333</td>\n",
       "    </tr>\n",
       "    <tr>\n",
       "      <th>O</th>\n",
       "      <td>2.0</td>\n",
       "      <td>1.0</td>\n",
       "      <td>12.0</td>\n",
       "      <td>0.500000</td>\n",
       "      <td>0.000000</td>\n",
       "      <td>0.666667</td>\n",
       "    </tr>\n",
       "    <tr>\n",
       "      <th>PRED</th>\n",
       "      <td>NaN</td>\n",
       "      <td>NaN</td>\n",
       "      <td>2.0</td>\n",
       "      <td>NaN</td>\n",
       "      <td>NaN</td>\n",
       "      <td>0.500000</td>\n",
       "    </tr>\n",
       "    <tr>\n",
       "      <th>S</th>\n",
       "      <td>76.0</td>\n",
       "      <td>8.0</td>\n",
       "      <td>43.0</td>\n",
       "      <td>0.578947</td>\n",
       "      <td>0.250000</td>\n",
       "      <td>0.674419</td>\n",
       "    </tr>\n",
       "    <tr>\n",
       "      <th>S1</th>\n",
       "      <td>12.0</td>\n",
       "      <td>NaN</td>\n",
       "      <td>4.0</td>\n",
       "      <td>0.666667</td>\n",
       "      <td>NaN</td>\n",
       "      <td>1.000000</td>\n",
       "    </tr>\n",
       "    <tr>\n",
       "      <th>covert</th>\n",
       "      <td>6.0</td>\n",
       "      <td>61.0</td>\n",
       "      <td>6.0</td>\n",
       "      <td>0.833333</td>\n",
       "      <td>0.754098</td>\n",
       "      <td>0.000000</td>\n",
       "    </tr>\n",
       "    <tr>\n",
       "      <th>rchead</th>\n",
       "      <td>18.0</td>\n",
       "      <td>2.0</td>\n",
       "      <td>10.0</td>\n",
       "      <td>0.000000</td>\n",
       "      <td>0.000000</td>\n",
       "      <td>0.000000</td>\n",
       "    </tr>\n",
       "  </tbody>\n",
       "</table>\n",
       "</div>"
      ],
      "text/plain": [
       "                     count                                        mean  \\\n",
       "prej-cont-rel cont <= prej cont_not_appearing prej < cont cont <= prej   \n",
       "cont_role                                                                \n",
       "ADV                    8.0                3.0         3.0     0.500000   \n",
       "O                      2.0                1.0        12.0     0.500000   \n",
       "PRED                   NaN                NaN         2.0          NaN   \n",
       "S                     76.0                8.0        43.0     0.578947   \n",
       "S1                    12.0                NaN         4.0     0.666667   \n",
       "covert                 6.0               61.0         6.0     0.833333   \n",
       "rchead                18.0                2.0        10.0     0.000000   \n",
       "\n",
       "                                              \n",
       "prej-cont-rel cont_not_appearing prej < cont  \n",
       "cont_role                                     \n",
       "ADV                     0.666667    0.333333  \n",
       "O                       0.000000    0.666667  \n",
       "PRED                         NaN    0.500000  \n",
       "S                       0.250000    0.674419  \n",
       "S1                           NaN    1.000000  \n",
       "covert                  0.754098    0.000000  \n",
       "rchead                  0.000000    0.000000  "
      ]
     },
     "execution_count": 30,
     "metadata": {},
     "output_type": "execute_result"
    }
   ],
   "source": [
    "table = df.pivot_table(\n",
    "    values = \"is_correct\",\n",
    "    index = [\"cont_role\"],\n",
    "    columns = [\"prej-cont-rel\"],\n",
    "    aggfunc = {\"is_correct\": [\"count\", \"mean\"]},\n",
    ")\n",
    "table\n",
    "\n",
    "# Oの絶対数がそもそも少ない"
   ]
  },
  {
   "cell_type": "code",
   "execution_count": null,
   "metadata": {},
   "outputs": [],
   "source": []
  }
 ],
 "metadata": {
  "kernelspec": {
   "display_name": "Python 3.10.4 ('comparative-ner-utils-sv0RmVnD-py3.10')",
   "language": "python",
   "name": "python3"
  },
  "language_info": {
   "codemirror_mode": {
    "name": "ipython",
    "version": 3
   },
   "file_extension": ".py",
   "mimetype": "text/x-python",
   "name": "python",
   "nbconvert_exporter": "python",
   "pygments_lexer": "ipython3",
   "version": "3.10.4"
  },
  "orig_nbformat": 4,
  "vscode": {
   "interpreter": {
    "hash": "98ff88495b25d3c68e7ba2c5383ef33c76229d3a0872ace53e941ddd39c21b36"
   }
  }
 },
 "nbformat": 4,
 "nbformat_minor": 2
}
