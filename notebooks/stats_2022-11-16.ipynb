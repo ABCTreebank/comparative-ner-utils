{
 "cells": [
  {
   "cell_type": "markdown",
   "metadata": {},
   "source": [
    "# 報告 2022-11-16\n",
    "モデル：[2022/10/19版](https://huggingface.co/abctreebank/comparative-NER/commit/4f760c214d16cae4188f060d5051ee4e5ee0bd2b)"
   ]
  },
  {
   "cell_type": "markdown",
   "metadata": {},
   "source": [
    "## 学習データ／評価データ\n",
    "9:1になるように，事前に分割した。"
   ]
  },
  {
   "cell_type": "code",
   "execution_count": 19,
   "metadata": {},
   "outputs": [
    {
     "name": "stderr",
     "output_type": "stream",
     "text": [
      "/home/owner/.cache/pypoetry/virtualenvs/comparative-ner-utils-sv0RmVnD-py3.10/lib/python3.10/site-packages/huggingface_hub/utils/_deprecation.py:97: FutureWarning: Deprecated argument(s) used in 'dataset_info': token. Will not be supported from version '0.12'.\n",
      "  warnings.warn(message, FutureWarning)\n",
      "Using custom data configuration abctreebank--comparative-NER-BCCWJ-c32c3cdce4ba824a\n",
      "Reusing dataset parquet (/home/owner/.cache/huggingface/datasets/abctreebank___parquet/abctreebank--comparative-NER-BCCWJ-c32c3cdce4ba824a/0.0.0/2a3b91fbd88a2c90d1dbbb32b460cf621d31bd5b05b934492fdef7d8d6f236ec)\n"
     ]
    },
    {
     "data": {
      "application/json": {
       "ascii": false,
       "bar_format": null,
       "colour": null,
       "elapsed": 0.03268289566040039,
       "initial": 0,
       "n": 0,
       "ncols": null,
       "nrows": null,
       "postfix": null,
       "prefix": "",
       "rate": null,
       "total": 2,
       "unit": "it",
       "unit_divisor": 1000,
       "unit_scale": false
      },
      "application/vnd.jupyter.widget-view+json": {
       "model_id": "90c200e080464f9d92e0c0aeb74a0211",
       "version_major": 2,
       "version_minor": 0
      },
      "text/plain": [
       "  0%|          | 0/2 [00:00<?, ?it/s]"
      ]
     },
     "metadata": {},
     "output_type": "display_data"
    }
   ],
   "source": [
    "import datasets\n",
    "\n",
    "# NOTE: private repoなので，事前にログインが必要。\n",
    "ds = datasets.load_dataset(\n",
    "    \"abctreebank/comparative-NER-BCCWJ\",\n",
    "    use_auth_token = True,\n",
    ")"
   ]
  },
  {
   "cell_type": "code",
   "execution_count": 20,
   "metadata": {},
   "outputs": [
    {
     "data": {
      "text/plain": [
       "DatasetDict({\n",
       "    test: Dataset({\n",
       "        features: ['ID', 'tokens', 'comp', 'comments'],\n",
       "        num_rows: 350\n",
       "    })\n",
       "    train: Dataset({\n",
       "        features: ['ID', 'tokens', 'comp', 'comments'],\n",
       "        num_rows: 3120\n",
       "    })\n",
       "})"
      ]
     },
     "execution_count": 20,
     "metadata": {},
     "output_type": "execute_result"
    }
   ],
   "source": [
    "ds"
   ]
  },
  {
   "cell_type": "markdown",
   "metadata": {},
   "source": [
    "* 学習データ数： 3,120文\n",
    "* テストデータ数： 350文\n",
    "\n",
    "NOTE: 一語文などを削除したので、数が若干減っている。"
   ]
  },
  {
   "cell_type": "markdown",
   "metadata": {},
   "source": [
    "### 学習データの例\n",
    "\n",
    "#### 単文\n",
    "```yaml\n",
    "- ID: 5_BCCWJ-ABC-aa-simple\n",
    "  reference_linear: 妻 が 仕事 に 精出す 一方 、 [[赤沼 は]cont [それ より]prej [もっと]diff [忙しい]deg 。]root\n",
    "  prediction_linear: '妻 が 仕事 に 精 ##出す 一方 、 [赤 ##沼 は]cont [それ より]prej [もっと]diff\n",
    "    [忙 ##しい]deg 。'\n",
    "\n",
    "- ID: 95_bccwj_kurabe_text-aj-simplified\n",
    "  reference_linear: '[[旧法 が 成立 し た 当時 に 比べ て]prej 、 私 たち の 食生活 は [格段 に]diff [豊か]deg\n",
    "    に なっ た 。]root'\n",
    "  prediction_linear: '[旧 ##法 が 成立 し た 当時 に 比べ て]prej 、 私 たち の 食 ##生活 は [格段 に]diff\n",
    "    [豊か]deg に なっ た 。'\n",
    "\n",
    "- ID: 35_bccwj_kurabe_text-ah-simplified\n",
    "  reference_linear: '[[アカ ナマコ の 成長 は]cont [アオナマコ に]prej [比べ]prej [若干]diff [劣っ]deg\n",
    "    て い た 。]root'\n",
    "  prediction_linear: '[アカ ナ ##マコ]cont の 成長 は [アオ ##ナ ##マコ に 比べ]prej [若干]diff\n",
    "    [劣っ]deg て い た 。'\n",
    "  errors:\n",
    "  - - cont\n",
    "    - WRONG_SPAN\n",
    "```\n",
    "\n",
    "#### 連用節\n",
    "```yaml\n",
    "- ID: 23_bccwj_kurabe_text-af-simplified\n",
    "  reference_linear: ところが 、 一 九 八 五 年 九月 の プラザ 合意 以降 、 [[円 が]cont [ドル に 比べ て]prej [百\n",
    "    ％ 以上]diff [はね上がり]root]deg 、 突然 日本 は アメリカ より はるか に 高 コスト の 国 に なり まし た 。\n",
    "  prediction_linear: 'ところが 、 一 九 八 五 年 九 ##月 の プラザ 合意 以降 、 [円 が]cont [ドル に 比べ\n",
    "    て]prej [百 % 以上]diff [はね ##上がり]deg 、 突然 [日本 は]cont [アメリカ より]prej [はるか]diff に [高\n",
    "    コスト]deg の 国 に なり まし た 。'\n",
    "  errors:\n",
    "  - - cont\n",
    "    - SPURIOUS\n",
    "  - - prej\n",
    "    - SPURIOUS\n",
    "  - - diff\n",
    "    - SPURIOUS\n",
    "  - - deg\n",
    "    - SPURIOUS\n",
    "```\n",
    "\n",
    "#### 連体節\n",
    "```yaml\n",
    "- ID: 21_BCCWJ-ABC-as-simple\n",
    "  reference_linear: 三 十 歳 の サラリーマン が [自分 より]prej [七]diff [、]diff [[[八 歳]diff [年下]root]deg]cont\n",
    "    の 「 新入 社員 の 気持ち が わから ない 」 と 言っ て いる 。\n",
    "  prediction_linear: '[三 十 歳 の サラリーマン が]cont [自分 より]prej [七 、 八 歳]diff [年下]deg\n",
    "    の 「 新入 社員 の 気持ち が わから ない 」 と 言っ て いる 。'\n",
    "  errors:\n",
    "  - - cont\n",
    "    - SPURIOUS\n",
    "  - - diff\n",
    "    - WRONG_SPAN\n",
    "  - - cont\n",
    "    - MISSING\n",
    "  comments:\n",
    "  - これは難しい。鍵カッコがあるので、そもそも構造を取るのが難しい。\n",
    " \n",
    "- ID: 99_BCCWJ-ABC-au-simple\n",
    "  reference_linear: 何 畳 ある か わから ない くらい 、 [[教室 より も]prej [広い]root]deg [部屋]cont 。\n",
    "  prediction_linear: '何 畳 ある か わから ない くらい 、 [教室 より も]prej [広い]deg [部屋]cont 。\n",
    "   '\n",
    "```"
   ]
  },
  {
   "cell_type": "markdown",
   "metadata": {},
   "source": [
    "## モデルの設定\n",
    "* 使用した事前学習モデル： https://huggingface.co/cl-tohoku/bert-base-japanese-whole-word-masking\n",
    "* このモデルの上で，NER（固有表現認識）の一種として，与えられた文のどのspanが，比較構文の要素に相当するのかについてのモデルを構築。\n",
    "* 比較構文の要素：\n",
    "    * prej(acent)：「より」句\n",
    "    * cont(rast)：比較対象\n",
    "    * diff(erence)：差の表現\n",
    "    * deg(ree)：程度表現\n",
    "    * root：比較構文の最大スコープ（NERモデルにおいては取り除いた）\n",
    "* 例： [ [太郎が]cont [花子よりも]prej [3cm]diff [高い]deg ]root ことは意外だった。"
   ]
  },
  {
   "cell_type": "code",
   "execution_count": 21,
   "metadata": {},
   "outputs": [],
   "source": [
    "# 学習パラメータ\n",
    "\n",
    "training_args = dict(\n",
    "    # output_dir = str(output_path),\n",
    "\n",
    "    # エポック数\n",
    "    num_train_epochs = 27,\n",
    "\n",
    "    # バッチのサイズ\n",
    "    per_device_train_batch_size = 64,\n",
    "    per_device_eval_batch_size = 128,\n",
    "\n",
    "    # 学習率\n",
    "    learning_rate = 5e-5,\n",
    "    \n",
    "    warmup_steps = 200,\n",
    "    weight_decay = 0,\n",
    "    # save_strategy = IntervalStrategy.STEPS,\n",
    "    save_steps = 1000,\n",
    "    do_eval = True,\n",
    "    # evaluation_strategy = IntervalStrategy.STEPS,\n",
    "    eval_steps = 109,\n",
    "    include_inputs_for_metrics = True,\n",
    "\n",
    "    # 乱数シード\n",
    "    seed = 2630987289,\n",
    "\n",
    "    # logging_dir = str(output_path / \"logs\"),\n",
    "    logging_steps= 10,\n",
    ")"
   ]
  },
  {
   "cell_type": "markdown",
   "metadata": {},
   "source": [
    "## 学習結果"
   ]
  },
  {
   "cell_type": "code",
   "execution_count": 22,
   "metadata": {},
   "outputs": [],
   "source": [
    "result = {\"score_spanwise_details\": {\"cont\": {\"CORRECT\": 107, \"WRONG_SPAN\": 73, \"SPURIOUS\": 67, \"MISSING\": 53, \"WRONG_LABEL\": 1, \"WRONG_LABEL_SPAN\": 9}, \"prej\": {\"CORRECT\": 229, \"WRONG_LABEL_SPAN\": 6, \"WRONG_SPAN\": 33, \"MISSING\": 5, \"SPURIOUS\": 32}, \"diff\": {\"CORRECT\": 63, \"MISSING\": 10, \"SPURIOUS\": 14, \"WRONG_SPAN\": 10, \"WRONG_LABEL_SPAN\": 1}, \"deg\": {\"CORRECT\": 218, \"WRONG_SPAN\": 15, \"WRONG_LABEL\": 3, \"SPURIOUS\": 60, \"MISSING\": 34, \"WRONG_LABEL_SPAN\": 4}}, \"score_spanwise\": {\"cont\": {\"possible_entries\": 243, \"actual_entries\": 257, \"precision_strict\": 0.4163424124513619, \"recall_strict\": 0.4403292181069959, \"F1_strict\": 0.574, \"precision_partial\": 0.5583657587548638, \"recall_partial\": 0.5905349794238683}, \"prej\": {\"possible_entries\": 273, \"actual_entries\": 300, \"precision_strict\": 0.7633333333333333, \"recall_strict\": 0.8388278388278388, \"F1_strict\": 0.8568935427574172, \"precision_partial\": 0.8183333333333334, \"recall_partial\": 0.8992673992673993}, \"diff\": {\"possible_entries\": 84, \"actual_entries\": 88, \"precision_strict\": 0.7159090909090909, \"recall_strict\": 0.75, \"F1_strict\": 0.7906976744186046, \"precision_partial\": 0.7727272727272727, \"recall_partial\": 0.8095238095238095}, \"deg\": {\"possible_entries\": 274, \"actual_entries\": 300, \"precision_strict\": 0.7266666666666667, \"recall_strict\": 0.7956204379562044, \"F1_strict\": 0.7857142857142858, \"precision_partial\": 0.7516666666666667, \"recall_partial\": 0.822992700729927}}, \"score_spanwise_F1_strict\": 0.7518263757225769, \"score_tokenwise\": {\"IGNORE\": {\"precision\": 0.0, \"recall\": 0.0, \"f1-score\": 0.0, \"support\": 0}, \"O\": {\"precision\": 0.9349922839506173, \"recall\": 0.9109190001879346, \"f1-score\": 0.9227986673012851, \"support\": 5321}, \"B-deg\": {\"precision\": 0.761437908496732, \"recall\": 0.8411552346570397, \"f1-score\": 0.7993138936535162, \"support\": 277}, \"B-prej\": {\"precision\": 0.8160535117056856, \"recall\": 0.8591549295774648, \"f1-score\": 0.83704974271012, \"support\": 284}, \"B-cont\": {\"precision\": 0.6639004149377593, \"recall\": 0.6986899563318777, \"f1-score\": 0.6808510638297872, \"support\": 229}, \"B-diff\": {\"precision\": 0.7419354838709677, \"recall\": 0.7752808988764045, \"f1-score\": 0.7582417582417582, \"support\": 89}, \"I-deg\": {\"precision\": 0.6923076923076923, \"recall\": 0.7397260273972602, \"f1-score\": 0.7152317880794701, \"support\": 73}, \"I-prej\": {\"precision\": 0.8496, \"recall\": 0.959349593495935, \"f1-score\": 0.9011455239711498, \"support\": 1107}, \"I-cont\": {\"precision\": 0.7381703470031545, \"recall\": 0.6733812949640288, \"f1-score\": 0.7042889390519188, \"support\": 695}, \"I-diff\": {\"precision\": 0.7654320987654321, \"recall\": 0.6813186813186813, \"f1-score\": 0.7209302325581395, \"support\": 91}, \"micro avg\": {\"precision\": 0.881582169973059, \"recall\": 0.881582169973059, \"f1-score\": 0.881582169973059, \"support\": 8166}, \"macro avg\": {\"precision\": 0.6963829741038041, \"recall\": 0.7138975616806627, \"f1-score\": 0.7039851609397145, \"support\": 8166}, \"weighted avg\": {\"precision\": 0.8828759818341678, \"recall\": 0.881582169973059, \"f1-score\": 0.8814116671139006, \"support\": 8166}}}"
   ]
  },
  {
   "cell_type": "code",
   "execution_count": 71,
   "metadata": {},
   "outputs": [
    {
     "data": {
      "text/html": [
       "<div>\n",
       "<style scoped>\n",
       "    .dataframe tbody tr th:only-of-type {\n",
       "        vertical-align: middle;\n",
       "    }\n",
       "\n",
       "    .dataframe tbody tr th {\n",
       "        vertical-align: top;\n",
       "    }\n",
       "\n",
       "    .dataframe thead th {\n",
       "        text-align: right;\n",
       "    }\n",
       "</style>\n",
       "<table border=\"1\" class=\"dataframe\">\n",
       "  <thead>\n",
       "    <tr style=\"text-align: right;\">\n",
       "      <th></th>\n",
       "      <th>CORRECT</th>\n",
       "      <th>WRONG_SPAN</th>\n",
       "      <th>SPURIOUS</th>\n",
       "      <th>MISSING</th>\n",
       "      <th>WRONG_LABEL</th>\n",
       "      <th>WRONG_LABEL_SPAN</th>\n",
       "    </tr>\n",
       "  </thead>\n",
       "  <tbody>\n",
       "    <tr>\n",
       "      <th>cont</th>\n",
       "      <td>107</td>\n",
       "      <td>73</td>\n",
       "      <td>67</td>\n",
       "      <td>53</td>\n",
       "      <td>1.0</td>\n",
       "      <td>9</td>\n",
       "    </tr>\n",
       "    <tr>\n",
       "      <th>prej</th>\n",
       "      <td>229</td>\n",
       "      <td>33</td>\n",
       "      <td>32</td>\n",
       "      <td>5</td>\n",
       "      <td>0.0</td>\n",
       "      <td>6</td>\n",
       "    </tr>\n",
       "    <tr>\n",
       "      <th>diff</th>\n",
       "      <td>63</td>\n",
       "      <td>10</td>\n",
       "      <td>14</td>\n",
       "      <td>10</td>\n",
       "      <td>0.0</td>\n",
       "      <td>1</td>\n",
       "    </tr>\n",
       "    <tr>\n",
       "      <th>deg</th>\n",
       "      <td>218</td>\n",
       "      <td>15</td>\n",
       "      <td>60</td>\n",
       "      <td>34</td>\n",
       "      <td>3.0</td>\n",
       "      <td>4</td>\n",
       "    </tr>\n",
       "  </tbody>\n",
       "</table>\n",
       "</div>"
      ],
      "text/plain": [
       "      CORRECT  WRONG_SPAN  SPURIOUS  MISSING  WRONG_LABEL  WRONG_LABEL_SPAN\n",
       "cont      107          73        67       53          1.0                 9\n",
       "prej      229          33        32        5          0.0                 6\n",
       "diff       63          10        14       10          0.0                 1\n",
       "deg       218          15        60       34          3.0                 4"
      ]
     },
     "execution_count": 71,
     "metadata": {},
     "output_type": "execute_result"
    }
   ],
   "source": [
    "import pandas as pd\n",
    "\n",
    "# データカウント\n",
    "df_res_count = pd.DataFrame.from_dict(\n",
    "    result[\"score_spanwise_details\"],\n",
    "    orient = \"index\",\n",
    ").fillna(0)\n",
    "\n",
    "df_res_count"
   ]
  },
  {
   "cell_type": "markdown",
   "metadata": {},
   "source": [
    "* CORRECT: ぴったり\n",
    "* WRONG_SPAN: spanにずれがある。\n",
    "* SPURIOUS: 正解データにないspanを予測してしまっている。\n",
    "* MISSING: 正解データにあるspanを予測できていない。\n",
    "* WRONG_LABEL_SPAN: spanにずれがあり，かつ，ラベルも間違っている。\n",
    "* WRONG_LABEL: spanにずれはないが，ラベルが間違っている。"
   ]
  },
  {
   "cell_type": "code",
   "execution_count": 78,
   "metadata": {},
   "outputs": [],
   "source": [
    "# metricsの計算でバグあり、こちらに差し替え\n",
    "\n",
    "def calc_corr(row: pd.Series):\n",
    "    res = {\n",
    "        \"possible_entries\": row[\"CORRECT\"] + row[\"WRONG_SPAN\"] + row[\"WRONG_LABEL\"] + row[\"WRONG_LABEL_SPAN\"] + row[\"MISSING\"]\n",
    "    }\n",
    "    res[\"actual_entires\"] = (\n",
    "        res[\"possible_entries\"] - row[\"MISSING\"] + row[\"SPURIOUS\"]\n",
    "    )\n",
    "    res[\"precision_strict\"] = (\n",
    "        row[\"CORRECT\"] / res[\"actual_entires\"]\n",
    "    )\n",
    "    res[\"recall_strict\"] = (\n",
    "        row[\"CORRECT\"] / res[\"possible_entries\"]\n",
    "    )\n",
    "    res[\"F1_strict\"] = (\n",
    "        2 * res[\"recall_strict\"] * res[\"precision_strict\"]\n",
    "        / (res[\"recall_strict\"] + res[\"precision_strict\"])\n",
    "    )\n",
    "    res[\"precision_partial\"] = (\n",
    "        (row[\"CORRECT\"] + 0.5 * row[\"WRONG_SPAN\"])\n",
    "        / res[\"actual_entires\"]\n",
    "    )\n",
    "    res[\"recall_partial\"] = (\n",
    "        (row[\"CORRECT\"] + 0.5 * row[\"WRONG_SPAN\"])\n",
    "        / res[\"possible_entries\"]\n",
    "    )\n",
    "    res[\"F1_partial\"] = (\n",
    "        2 * res[\"recall_partial\"] * res[\"precision_partial\"]\n",
    "        / (res[\"recall_partial\"] + res[\"precision_partial\"])\n",
    "    )\n",
    "\n",
    "    return res"
   ]
  },
  {
   "cell_type": "code",
   "execution_count": 79,
   "metadata": {},
   "outputs": [
    {
     "data": {
      "text/html": [
       "<div>\n",
       "<style scoped>\n",
       "    .dataframe tbody tr th:only-of-type {\n",
       "        vertical-align: middle;\n",
       "    }\n",
       "\n",
       "    .dataframe tbody tr th {\n",
       "        vertical-align: top;\n",
       "    }\n",
       "\n",
       "    .dataframe thead th {\n",
       "        text-align: right;\n",
       "    }\n",
       "</style>\n",
       "<table border=\"1\" class=\"dataframe\">\n",
       "  <thead>\n",
       "    <tr style=\"text-align: right;\">\n",
       "      <th></th>\n",
       "      <th>possible_entries</th>\n",
       "      <th>actual_entires</th>\n",
       "      <th>precision_strict</th>\n",
       "      <th>recall_strict</th>\n",
       "      <th>F1_strict</th>\n",
       "      <th>precision_partial</th>\n",
       "      <th>recall_partial</th>\n",
       "      <th>F1_partial</th>\n",
       "    </tr>\n",
       "  </thead>\n",
       "  <tbody>\n",
       "    <tr>\n",
       "      <th>cont</th>\n",
       "      <td>243.0</td>\n",
       "      <td>257.0</td>\n",
       "      <td>0.416342</td>\n",
       "      <td>0.440329</td>\n",
       "      <td>0.428000</td>\n",
       "      <td>0.558366</td>\n",
       "      <td>0.590535</td>\n",
       "      <td>0.574000</td>\n",
       "    </tr>\n",
       "    <tr>\n",
       "      <th>prej</th>\n",
       "      <td>273.0</td>\n",
       "      <td>300.0</td>\n",
       "      <td>0.763333</td>\n",
       "      <td>0.838828</td>\n",
       "      <td>0.799302</td>\n",
       "      <td>0.818333</td>\n",
       "      <td>0.899267</td>\n",
       "      <td>0.856894</td>\n",
       "    </tr>\n",
       "    <tr>\n",
       "      <th>diff</th>\n",
       "      <td>84.0</td>\n",
       "      <td>88.0</td>\n",
       "      <td>0.715909</td>\n",
       "      <td>0.750000</td>\n",
       "      <td>0.732558</td>\n",
       "      <td>0.772727</td>\n",
       "      <td>0.809524</td>\n",
       "      <td>0.790698</td>\n",
       "    </tr>\n",
       "    <tr>\n",
       "      <th>deg</th>\n",
       "      <td>274.0</td>\n",
       "      <td>300.0</td>\n",
       "      <td>0.726667</td>\n",
       "      <td>0.795620</td>\n",
       "      <td>0.759582</td>\n",
       "      <td>0.751667</td>\n",
       "      <td>0.822993</td>\n",
       "      <td>0.785714</td>\n",
       "    </tr>\n",
       "  </tbody>\n",
       "</table>\n",
       "</div>"
      ],
      "text/plain": [
       "      possible_entries  actual_entires  precision_strict  recall_strict  \\\n",
       "cont             243.0           257.0          0.416342       0.440329   \n",
       "prej             273.0           300.0          0.763333       0.838828   \n",
       "diff              84.0            88.0          0.715909       0.750000   \n",
       "deg              274.0           300.0          0.726667       0.795620   \n",
       "\n",
       "      F1_strict  precision_partial  recall_partial  F1_partial  \n",
       "cont   0.428000           0.558366        0.590535    0.574000  \n",
       "prej   0.799302           0.818333        0.899267    0.856894  \n",
       "diff   0.732558           0.772727        0.809524    0.790698  \n",
       "deg    0.759582           0.751667        0.822993    0.785714  "
      ]
     },
     "execution_count": 79,
     "metadata": {},
     "output_type": "execute_result"
    }
   ],
   "source": [
    "# 統計\n",
    "df_res_stat = pd.DataFrame.from_records(\n",
    "    df_res_count.apply(\n",
    "        calc_corr,\n",
    "        axis = 1\n",
    "    ),\n",
    "    index = df_res_count.index\n",
    ")\n",
    "\n",
    "df_res_stat"
   ]
  },
  {
   "cell_type": "markdown",
   "metadata": {},
   "source": [
    "### 凡例\n",
    "\n",
    "* `possible_entries`: 予測されたspanの数\n",
    "    ```\n",
    "    ct[\"CORRECT\"] + ct[\"WRONG_SPAN\"] + ct[\"WRONG_LABEL\"] + ct[\"WRONG_LABEL_SPAN\"] + ct[\"MISSING\"]\n",
    "    ```\n",
    "* `actual_entires`: テストデータにあるspanの数\n",
    "    ```\n",
    "    res[\"possible_entries\"] - ct[\"MISSING\"] + ct[\"SPURIOUS\"]\n",
    "    ```\n",
    "* `precision_strict`: 予測のうち，当たっているものの数\n",
    "    ```\n",
    "    ct[\"CORRECT\"] / res[\"actual_entries\"]\n",
    "    ```\n",
    "* `recall_strict`: テストデータにあるもののうち，予測されたspanの数\n",
    "    ```\n",
    "    ct[\"CORRECT\"] / res[\"possible_entries\"]\n",
    "    ```\n",
    "* `precision_partial`：strictよりも緩い。 WRONG_SPANを50%カウントに入れている。\n",
    "    ```\n",
    "    (ct[\"CORRECT\"] + 0.5 * ct[\"WRONG_SPAN\"]) / res[\"actual_entries\"]\n",
    "    ```\n",
    "* `recall_partial`\n",
    "    ```\n",
    "    (ct[\"CORRECT\"] + 0.5 * ct[\"WRONG_SPAN\"]) / res[\"possible_entries\"]\n",
    "    ```\n",
    "* F1はprecisionとrecallの調和平均"
   ]
  },
  {
   "cell_type": "code",
   "execution_count": 80,
   "metadata": {},
   "outputs": [
    {
     "data": {
      "text/plain": [
       "0.6798604851971882"
      ]
     },
     "execution_count": 80,
     "metadata": {},
     "output_type": "execute_result"
    }
   ],
   "source": [
    "# F1_strictの単純平均。ラベルのカウントで重みづけることはしていない。\n",
    "df_res_stat[\"F1_strict\"].mean()"
   ]
  },
  {
   "cell_type": "code",
   "execution_count": 82,
   "metadata": {},
   "outputs": [
    {
     "data": {
      "text/plain": [
       "0.7518263757225769"
      ]
     },
     "execution_count": 82,
     "metadata": {},
     "output_type": "execute_result"
    }
   ],
   "source": [
    "# F1_partialの単純平均\n",
    "df_res_stat[\"F1_partial\"].mean()"
   ]
  },
  {
   "cell_type": "markdown",
   "metadata": {},
   "source": [
    "## 目視コメント"
   ]
  },
  {
   "cell_type": "code",
   "execution_count": 91,
   "metadata": {},
   "outputs": [],
   "source": [
    "import ruamel.yaml\n",
    "yaml = ruamel.yaml.YAML()\n",
    "\n",
    "# 目視でのコメントを読み込む\n",
    "with open(\"../../comp-proto/NER-test-result_2022-10/NER-test-result-dump_2022-10-19.yaml\") as f_dump:\n",
    "    data_dump = yaml.load(f_dump)\n",
    "\n",
    "df_dump = pd.DataFrame(data_dump).set_index(\"ID\")"
   ]
  },
  {
   "cell_type": "markdown",
   "metadata": {},
   "source": [
    "修正の見込みがありそうな（目視で判断）間違いのデータを、修正できたとしたときの指標を計算する。"
   ]
  },
  {
   "cell_type": "code",
   "execution_count": 88,
   "metadata": {},
   "outputs": [
    {
     "data": {
      "text/plain": [
       "Counter({'MISSING': 22, 'SPURIOUS': 53, 'WRONG_SPAN': 27, 'WRONG_LABEL': 1})"
      ]
     },
     "execution_count": 88,
     "metadata": {},
     "output_type": "execute_result"
    }
   ],
   "source": [
    "import itertools\n",
    "from collections import Counter\n",
    "\n",
    "reeval = df_dump[\"custom_contrast_reevaluation\"]\n",
    "df_dump_include = reeval.map(\n",
    "    lambda r: r not in (\"correct\", \"almost correct\", \"next time\")\n",
    ") & reeval.notna()\n",
    "\n",
    "counter_cont_hard = Counter(\n",
    "    val\n",
    "    for feat, val in itertools.chain.from_iterable(\n",
    "        df_dump[df_dump_include][\"errors\"]\n",
    "    )\n",
    "    if feat == \"cont\"\n",
    ")\n",
    "\n",
    "# CORRECTになる予定のデータ数\n",
    "counter_cont_hard"
   ]
  },
  {
   "cell_type": "code",
   "execution_count": 89,
   "metadata": {},
   "outputs": [
    {
     "data": {
      "text/html": [
       "<div>\n",
       "<style scoped>\n",
       "    .dataframe tbody tr th:only-of-type {\n",
       "        vertical-align: middle;\n",
       "    }\n",
       "\n",
       "    .dataframe tbody tr th {\n",
       "        vertical-align: top;\n",
       "    }\n",
       "\n",
       "    .dataframe thead th {\n",
       "        text-align: right;\n",
       "    }\n",
       "</style>\n",
       "<table border=\"1\" class=\"dataframe\">\n",
       "  <thead>\n",
       "    <tr style=\"text-align: right;\">\n",
       "      <th></th>\n",
       "      <th>CORRECT</th>\n",
       "      <th>WRONG_SPAN</th>\n",
       "      <th>SPURIOUS</th>\n",
       "      <th>MISSING</th>\n",
       "      <th>WRONG_LABEL</th>\n",
       "      <th>WRONG_LABEL_SPAN</th>\n",
       "    </tr>\n",
       "  </thead>\n",
       "  <tbody>\n",
       "    <tr>\n",
       "      <th>cont</th>\n",
       "      <td>210</td>\n",
       "      <td>46</td>\n",
       "      <td>14</td>\n",
       "      <td>31</td>\n",
       "      <td>0.0</td>\n",
       "      <td>9</td>\n",
       "    </tr>\n",
       "    <tr>\n",
       "      <th>prej</th>\n",
       "      <td>229</td>\n",
       "      <td>33</td>\n",
       "      <td>32</td>\n",
       "      <td>5</td>\n",
       "      <td>0.0</td>\n",
       "      <td>6</td>\n",
       "    </tr>\n",
       "    <tr>\n",
       "      <th>diff</th>\n",
       "      <td>63</td>\n",
       "      <td>10</td>\n",
       "      <td>14</td>\n",
       "      <td>10</td>\n",
       "      <td>0.0</td>\n",
       "      <td>1</td>\n",
       "    </tr>\n",
       "    <tr>\n",
       "      <th>deg</th>\n",
       "      <td>218</td>\n",
       "      <td>15</td>\n",
       "      <td>60</td>\n",
       "      <td>34</td>\n",
       "      <td>3.0</td>\n",
       "      <td>4</td>\n",
       "    </tr>\n",
       "  </tbody>\n",
       "</table>\n",
       "</div>"
      ],
      "text/plain": [
       "      CORRECT  WRONG_SPAN  SPURIOUS  MISSING  WRONG_LABEL  WRONG_LABEL_SPAN\n",
       "cont      210          46        14       31          0.0                 9\n",
       "prej      229          33        32        5          0.0                 6\n",
       "diff       63          10        14       10          0.0                 1\n",
       "deg       218          15        60       34          3.0                 4"
      ]
     },
     "execution_count": 89,
     "metadata": {},
     "output_type": "execute_result"
    }
   ],
   "source": [
    "df_res_count_modified = df_res_count.copy().fillna(0)\n",
    "\n",
    "for k, v in counter_cont_hard.items():\n",
    "    df_res_count_modified.loc[\"cont\", k] -= v\n",
    "\n",
    "df_res_count_modified.loc[\"cont\", \"CORRECT\"] += sum(counter_cont_hard.values())\n",
    "\n",
    "# not difficult contrast errorを正解とみなしたときのカウント\n",
    "df_res_count_modified"
   ]
  },
  {
   "cell_type": "code",
   "execution_count": 90,
   "metadata": {},
   "outputs": [
    {
     "data": {
      "text/html": [
       "<div>\n",
       "<style scoped>\n",
       "    .dataframe tbody tr th:only-of-type {\n",
       "        vertical-align: middle;\n",
       "    }\n",
       "\n",
       "    .dataframe tbody tr th {\n",
       "        vertical-align: top;\n",
       "    }\n",
       "\n",
       "    .dataframe thead th {\n",
       "        text-align: right;\n",
       "    }\n",
       "</style>\n",
       "<table border=\"1\" class=\"dataframe\">\n",
       "  <thead>\n",
       "    <tr style=\"text-align: right;\">\n",
       "      <th></th>\n",
       "      <th>possible_entries</th>\n",
       "      <th>actual_entires</th>\n",
       "      <th>precision_strict</th>\n",
       "      <th>recall_strict</th>\n",
       "      <th>F1_strict</th>\n",
       "      <th>precision_partial</th>\n",
       "      <th>recall_partial</th>\n",
       "      <th>F1_partial</th>\n",
       "    </tr>\n",
       "  </thead>\n",
       "  <tbody>\n",
       "    <tr>\n",
       "      <th>cont</th>\n",
       "      <td>296.0</td>\n",
       "      <td>279.0</td>\n",
       "      <td>0.752688</td>\n",
       "      <td>0.709459</td>\n",
       "      <td>0.730435</td>\n",
       "      <td>0.835125</td>\n",
       "      <td>0.787162</td>\n",
       "      <td>0.810435</td>\n",
       "    </tr>\n",
       "    <tr>\n",
       "      <th>prej</th>\n",
       "      <td>273.0</td>\n",
       "      <td>300.0</td>\n",
       "      <td>0.763333</td>\n",
       "      <td>0.838828</td>\n",
       "      <td>0.799302</td>\n",
       "      <td>0.818333</td>\n",
       "      <td>0.899267</td>\n",
       "      <td>0.856894</td>\n",
       "    </tr>\n",
       "    <tr>\n",
       "      <th>diff</th>\n",
       "      <td>84.0</td>\n",
       "      <td>88.0</td>\n",
       "      <td>0.715909</td>\n",
       "      <td>0.750000</td>\n",
       "      <td>0.732558</td>\n",
       "      <td>0.772727</td>\n",
       "      <td>0.809524</td>\n",
       "      <td>0.790698</td>\n",
       "    </tr>\n",
       "    <tr>\n",
       "      <th>deg</th>\n",
       "      <td>274.0</td>\n",
       "      <td>300.0</td>\n",
       "      <td>0.726667</td>\n",
       "      <td>0.795620</td>\n",
       "      <td>0.759582</td>\n",
       "      <td>0.751667</td>\n",
       "      <td>0.822993</td>\n",
       "      <td>0.785714</td>\n",
       "    </tr>\n",
       "  </tbody>\n",
       "</table>\n",
       "</div>"
      ],
      "text/plain": [
       "      possible_entries  actual_entires  precision_strict  recall_strict  \\\n",
       "cont             296.0           279.0          0.752688       0.709459   \n",
       "prej             273.0           300.0          0.763333       0.838828   \n",
       "diff              84.0            88.0          0.715909       0.750000   \n",
       "deg              274.0           300.0          0.726667       0.795620   \n",
       "\n",
       "      F1_strict  precision_partial  recall_partial  F1_partial  \n",
       "cont   0.730435           0.835125        0.787162    0.810435  \n",
       "prej   0.799302           0.818333        0.899267    0.856894  \n",
       "diff   0.732558           0.772727        0.809524    0.790698  \n",
       "deg    0.759582           0.751667        0.822993    0.785714  "
      ]
     },
     "execution_count": 90,
     "metadata": {},
     "output_type": "execute_result"
    }
   ],
   "source": [
    "df_res_stat_modified = pd.DataFrame.from_records(\n",
    "    df_res_count_modified.apply(calc_corr, axis = 1),\n",
    "    index = df_res_count_modified.index\n",
    ")\n",
    "\n",
    "# not difficult contrast errorを正解とみなしたときの指標\n",
    "df_res_stat_modified"
   ]
  },
  {
   "cell_type": "code",
   "execution_count": 85,
   "metadata": {},
   "outputs": [
    {
     "data": {
      "text/plain": [
       "0.7554691808493621"
      ]
     },
     "execution_count": 85,
     "metadata": {},
     "output_type": "execute_result"
    }
   ],
   "source": [
    "# F1_strictの単純平均\n",
    "df_res_stat_modified[\"F1_strict\"].mean()"
   ]
  },
  {
   "cell_type": "code",
   "execution_count": 86,
   "metadata": {},
   "outputs": [
    {
     "data": {
      "text/plain": [
       "0.8109350713747507"
      ]
     },
     "execution_count": 86,
     "metadata": {},
     "output_type": "execute_result"
    }
   ],
   "source": [
    "# F1_partialの単純平均\n",
    "df_res_stat_modified[\"F1_partial\"].mean()"
   ]
  }
 ],
 "metadata": {
  "kernelspec": {
   "display_name": "Python 3.10.4 ('comparative-ner-utils-sv0RmVnD-py3.10')",
   "language": "python",
   "name": "python3"
  },
  "language_info": {
   "codemirror_mode": {
    "name": "ipython",
    "version": 3
   },
   "file_extension": ".py",
   "mimetype": "text/x-python",
   "name": "python",
   "nbconvert_exporter": "python",
   "pygments_lexer": "ipython3",
   "version": "3.10.4"
  },
  "orig_nbformat": 4,
  "vscode": {
   "interpreter": {
    "hash": "98ff88495b25d3c68e7ba2c5383ef33c76229d3a0872ace53e941ddd39c21b36"
   }
  }
 },
 "nbformat": 4,
 "nbformat_minor": 2
}
