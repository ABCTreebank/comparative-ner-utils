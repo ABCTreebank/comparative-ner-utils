{
 "cells": [
  {
   "cell_type": "code",
   "execution_count": 1,
   "metadata": {},
   "outputs": [],
   "source": [
    "import ruamel.yaml\n",
    "import abct_comp_ner_utils as utils\n",
    "import abctk.obj.comparative as aoc"
   ]
  },
  {
   "cell_type": "code",
   "execution_count": 3,
   "metadata": {},
   "outputs": [],
   "source": [
    "yaml = ruamel.yaml.YAML()\n",
    "with open(\"../../comp-proto/comparative-annotation_linearized_current.yaml\") as f:\n",
    "    data = yaml.load(f)"
   ]
  },
  {
   "cell_type": "code",
   "execution_count": 4,
   "metadata": {},
   "outputs": [
    {
     "data": {
      "text/plain": [
       "('ID', 'comments', 'ID_v1', 'annot')"
      ]
     },
     "execution_count": 4,
     "metadata": {},
     "output_type": "execute_result"
    }
   ],
   "source": [
    "tuple(data[0].keys())"
   ]
  },
  {
   "cell_type": "code",
   "execution_count": 5,
   "metadata": {},
   "outputs": [],
   "source": [
    "with open(\"output.txt\", \"w\", encoding = \"utf-8\") as g:\n",
    "    for piece in data:\n",
    "        g.write(f'{piece[\"ID\"]} {piece[\"annot\"]}\\n')\n",
    "        g.write(f'ID_v1: {piece[\"ID_v1\"]}\\n')\n",
    "        for cmt in piece[\"comments\"]:\n",
    "            if not cmt.startswith(\"FROM TREE:\"):\n",
    "                g.write(f'# {cmt}\\n')\n",
    "        g.write(\"\\n\")"
   ]
  }
 ],
 "metadata": {
  "kernelspec": {
   "display_name": "comparative-ner-utils-sv0RmVnD-py3.10",
   "language": "python",
   "name": "python3"
  },
  "language_info": {
   "codemirror_mode": {
    "name": "ipython",
    "version": 3
   },
   "file_extension": ".py",
   "mimetype": "text/x-python",
   "name": "python",
   "nbconvert_exporter": "python",
   "pygments_lexer": "ipython3",
   "version": "3.10.4"
  }
 },
 "nbformat": 4,
 "nbformat_minor": 2
}
