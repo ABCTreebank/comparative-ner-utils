{
 "cells": [
  {
   "cell_type": "code",
   "execution_count": 8,
   "metadata": {},
   "outputs": [],
   "source": [
    "import json\n",
    "import datasets\n",
    "import abctk.obj.comparative as aoc"
   ]
  },
  {
   "cell_type": "code",
   "execution_count": 9,
   "metadata": {},
   "outputs": [
    {
     "name": "stderr",
     "output_type": "stream",
     "text": [
      "Using custom data configuration abctreebank--comparative-NER-BCCWJ-c32c3cdce4ba824a\n",
      "Found cached dataset parquet (/home/twotrees12/.cache/huggingface/datasets/abctreebank___parquet/abctreebank--comparative-NER-BCCWJ-c32c3cdce4ba824a/0.0.0/2a3b91fbd88a2c90d1dbbb32b460cf621d31bd5b05b934492fdef7d8d6f236ec)\n"
     ]
    },
    {
     "data": {
      "application/vnd.jupyter.widget-view+json": {
       "model_id": "bea48d5901ee45cab7dc85adf134612f",
       "version_major": 2,
       "version_minor": 0
      },
      "text/plain": [
       "  0%|          | 0/2 [00:00<?, ?it/s]"
      ]
     },
     "metadata": {},
     "output_type": "display_data"
    }
   ],
   "source": [
    "# Load previous dataset from the HF repo\n",
    "dataset_raw = datasets.load_dataset(\n",
    "    \"abctreebank/comparative-NER-BCCWJ\",\n",
    "    use_auth_token = True,\n",
    "    revision = \"de8fe2785391897efc898be36d695d8164863045\",\n",
    ")\n",
    "\n",
    "# Collect test sentence IDs\n",
    "dataset_test = dataset_raw[\"test\"]\n",
    "test_IDs = set(record[\"ID\"] for record in dataset_test)"
   ]
  },
  {
   "cell_type": "code",
   "execution_count": 10,
   "metadata": {},
   "outputs": [],
   "source": [
    "# Collect comments put on trees\n",
    "# First, parse trees with amoove\n",
    "# cat *.psd | ../amoove/bin/abc-comp-conv abc2jsonl > from_tree.jsonl\n",
    "trees = []\n",
    "\n",
    "with open(\"../from_tree.jsonl\") as f_tree:\n",
    "    for line in filter(None, map(str.strip, f_tree)):\n",
    "        trees.append(json.loads(line))"
   ]
  },
  {
   "cell_type": "code",
   "execution_count": 11,
   "metadata": {},
   "outputs": [],
   "source": [
    "# Load the latest data\n",
    "with open(\"../../comp-annot_2023-01-12.txt\") as g:\n",
    "    records = tuple(\n",
    "        aoc.read_bracket_annotation_file(g)\n",
    "    )"
   ]
  },
  {
   "cell_type": "code",
   "execution_count": 12,
   "metadata": {},
   "outputs": [],
   "source": [
    "# Merge comments\n",
    "for rec in records:\n",
    "    for tr in trees:\n",
    "        if tr[\"ID\"] == rec[\"ID\"]:\n",
    "            tr_comments = tr.get(\"comments\", tuple())\n",
    "            tr_comments_modified = (f\"FROM TREE: {c}\" for c in tr_comments)\n",
    "            if \"comments\" in rec:\n",
    "                rec[\"comments\"].extend(tr_comments_modified)\n",
    "            else:\n",
    "                rec[\"comments\"] = list(tr_comments_modified)"
   ]
  },
  {
   "cell_type": "code",
   "execution_count": 13,
   "metadata": {},
   "outputs": [],
   "source": [
    "# Split train/test\n",
    "records_train = tuple(\n",
    "    r for r in records\n",
    "    if r[\"ID\"] not in test_IDs\n",
    ")\n",
    "\n",
    "records_test = tuple(\n",
    "    r for r in records\n",
    "    if r[\"ID\"] in test_IDs\n",
    ")"
   ]
  },
  {
   "cell_type": "code",
   "execution_count": 14,
   "metadata": {},
   "outputs": [],
   "source": [
    "with open(\"train.jsonl\", \"w\") as f_train:\n",
    "    for record in records_train:\n",
    "        json.dump(record, f_train, ensure_ascii = False)\n",
    "        f_train.write(\"\\n\")\n",
    "\n",
    "with open(\"test.jsonl\", \"w\") as f_test:\n",
    "    for record in records_test:\n",
    "        json.dump(record, f_test, ensure_ascii = False)\n",
    "        f_test.write(\"\\n\")\n"
   ]
  },
  {
   "attachments": {},
   "cell_type": "markdown",
   "metadata": {},
   "source": [
    "Put the generated two JSONL files to the dataset folder and do HF push_to_hub.\n",
    "\n",
    "```sh\n",
    "mv train.sjon test.jsonl ../comparative-NER-BCCWJ/\n",
    "abct-comp-ner-utils upload-data --private ./comparative-NER-BCCWJ\n",
    "```\n",
    "\n",
    "WARNING: do not stage any annotation data to this repo so as to keep them private."
   ]
  }
 ],
 "metadata": {
  "kernelspec": {
   "display_name": "comparative-ner-utils-TwdyRrPe-py3.10",
   "language": "python",
   "name": "python3"
  },
  "language_info": {
   "codemirror_mode": {
    "name": "ipython",
    "version": 3
   },
   "file_extension": ".py",
   "mimetype": "text/x-python",
   "name": "python",
   "nbconvert_exporter": "python",
   "pygments_lexer": "ipython3",
   "version": "3.10.6"
  },
  "orig_nbformat": 4,
  "vscode": {
   "interpreter": {
    "hash": "a1fa0ffdb9e9fd0b877c4ec03dcf1edf281110581bbc6c24c1d31e34cc50dc31"
   }
  }
 },
 "nbformat": 4,
 "nbformat_minor": 2
}
