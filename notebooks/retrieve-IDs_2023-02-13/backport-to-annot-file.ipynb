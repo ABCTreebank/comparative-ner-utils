{
 "cells": [
  {
   "cell_type": "code",
   "execution_count": 10,
   "metadata": {},
   "outputs": [],
   "source": [
    "import datasets\n",
    "import abctk.obj.comparative as aoc\n",
    "\n",
    "import ruamel.yaml"
   ]
  },
  {
   "cell_type": "code",
   "execution_count": 5,
   "metadata": {},
   "outputs": [
    {
     "name": "stderr",
     "output_type": "stream",
     "text": [
      "Using custom data configuration default-3d69770012c5f921\n",
      "Found cached dataset parquet (/home/owner/.cache/huggingface/datasets/abctreebank___parquet/default-3d69770012c5f921/0.0.0/2a3b91fbd88a2c90d1dbbb32b460cf621d31bd5b05b934492fdef7d8d6f236ec)\n"
     ]
    },
    {
     "data": {
      "application/vnd.jupyter.widget-view+json": {
       "model_id": "49efbd42fe8f41828178b8457f1bf2d1",
       "version_major": 2,
       "version_minor": 0
      },
      "text/plain": [
       "  0%|          | 0/2 [00:00<?, ?it/s]"
      ]
     },
     "metadata": {},
     "output_type": "display_data"
    }
   ],
   "source": [
    "ds_raw = datasets.load_dataset(\n",
    "    \"abctreebank/comparative-NER-BCCWJ\",\n",
    "    revision = \"2a9b95eaf4a78d4d195a06fcccbb77ac7526e2c4\",\n",
    "    use_auth_token = True,\n",
    ")\n",
    "ds: Dataset | IterableDataset = datasets.concatenate_datasets(\n",
    "    [ds_raw[\"train\"], ds_raw[\"test\"]]\n",
    ")"
   ]
  },
  {
   "cell_type": "code",
   "execution_count": 6,
   "metadata": {},
   "outputs": [],
   "source": [
    "ds_new = []\n",
    "for record in ds:\n",
    "    record_new = dict(**record)\n",
    "    record_new[\"annot\"] = aoc.linearize_annotations(\n",
    "        record[\"tokens\"], record[\"comp\"]\n",
    "    )\n",
    "    del record_new[\"tokens\"]\n",
    "    del record_new[\"comp\"]\n",
    "    ds_new.append(record_new)"
   ]
  },
  {
   "cell_type": "code",
   "execution_count": 20,
   "metadata": {},
   "outputs": [],
   "source": [
    "yaml = ruamel.yaml.YAML()\n",
    "\n",
    "def represent_annot(dumper, instance):\n",
    "    if \"[\" in instance:\n",
    "        return dumper.represent_scalar(\n",
    "            \"tag:yaml.org,2002:str\",\n",
    "            instance,\n",
    "            style = \"|\"\n",
    "        )\n",
    "    else:\n",
    "        return dumper.represent_scalar(\n",
    "            \"tag:yaml.org,2002:str\",\n",
    "            instance,\n",
    "        )\n",
    "\n",
    "yaml.representer.add_representer(str, represent_annot)\n",
    "yaml.version = (1, 2)"
   ]
  },
  {
   "cell_type": "code",
   "execution_count": 21,
   "metadata": {},
   "outputs": [],
   "source": [
    "with open(\"comparative-annotation_linearized_current.yaml\", \"w\") as f:\n",
    "    yaml.dump(ds_new, f)"
   ]
  }
 ],
 "metadata": {
  "kernelspec": {
   "display_name": "comparative-ner-utils-sv0RmVnD-py3.10",
   "language": "python",
   "name": "python3"
  },
  "language_info": {
   "codemirror_mode": {
    "name": "ipython",
    "version": 3
   },
   "file_extension": ".py",
   "mimetype": "text/x-python",
   "name": "python",
   "nbconvert_exporter": "python",
   "pygments_lexer": "ipython3",
   "version": "3.10.4"
  },
  "orig_nbformat": 4,
  "vscode": {
   "interpreter": {
    "hash": "98ff88495b25d3c68e7ba2c5383ef33c76229d3a0872ace53e941ddd39c21b36"
   }
  }
 },
 "nbformat": 4,
 "nbformat_minor": 2
}
