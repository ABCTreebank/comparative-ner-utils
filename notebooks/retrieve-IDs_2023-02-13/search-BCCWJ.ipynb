{
 "cells": [
  {
   "cell_type": "code",
   "execution_count": 1,
   "metadata": {},
   "outputs": [],
   "source": [
    "import glob\n",
    "import os\n",
    "import re\n",
    "import itertools\n",
    "import multiprocessing\n",
    "import dataclasses\n",
    "from pathlib import Path\n",
    "\n",
    "import lxml.etree as etree\n",
    "import tqdm\n",
    "\n",
    "import whoosh.fields\n",
    "from whoosh.fields import ID, NGRAM, NUMERIC\n",
    "import whoosh.index\n",
    "import whoosh.qparser\n",
    "import jellyfish\n",
    "import pandas as pd\n",
    "\n",
    "import abctk.obj.comparative as aoc"
   ]
  },
  {
   "cell_type": "code",
   "execution_count": 2,
   "metadata": {},
   "outputs": [],
   "source": [
    "class BCCWJSent(whoosh.fields.SchemaClass):\n",
    "    sampleID = ID(stored = True)\n",
    "    sent_start_pos = NUMERIC(stored = True)\n",
    "    text = NGRAM(stored = True)\n",
    "\n",
    "StartPos_UNKNOWN = 1000000000\n",
    "\n",
    "@dataclasses.dataclass\n",
    "class Match:\n",
    "    ID_current: str\n",
    "    found_bccwj_file: str | None\n",
    "    found_bccwj_start: int | None\n",
    "    text_original: str\n",
    "    text_found: str | None\n",
    "    match_score: float"
   ]
  },
  {
   "cell_type": "code",
   "execution_count": 3,
   "metadata": {},
   "outputs": [],
   "source": [
    "BCCWJ_GLOBS = (\n",
    "    \"/home/owner/BCCWJ/CORE_NT/core_M-XML/*.xml\",\n",
    "    \"/home/owner/BCCWJ/LB/**/*.xml\",\n",
    ")\n",
    "INDEX_PATH = Path(\"../BCCWJ_INDICES\")\n",
    "ANNOT_FILE = Path(\"/home/owner/ABCT/comp-proto/comparative-annotation_linearilized_current.txt\")\n",
    "OUTPUT_PATH: Path = Path(\"result.csv\")"
   ]
  },
  {
   "cell_type": "code",
   "execution_count": null,
   "metadata": {},
   "outputs": [],
   "source": [
    "if not INDEX_PATH.exists():\n",
    "    os.mkdir(INDEX_PATH)\n",
    "\n",
    "file_list = tuple(\n",
    "    itertools.chain.from_iterable(\n",
    "        glob.glob(p) for p in BCCWJ_GLOBS\n",
    "    )\n",
    ")\n",
    "\n",
    "index = whoosh.index.create_in(INDEX_PATH.name, BCCWJSent)\n",
    "\n",
    "with index.writer(\n",
    "    procs = multiprocessing.cpu_count(), \n",
    "    multisegment = True\n",
    ") as writer:\n",
    "    for fp in tqdm.tqdm(\n",
    "        file_list,\n",
    "        desc = \"Incorporating documents\",\n",
    "        total = len(file_list), \n",
    "        unit = \"file(s)\"\n",
    "    ):\n",
    "        doc = etree.parse(fp)\n",
    "        for mergedSample in doc.xpath(\"//mergedSample\"):\n",
    "            sampleID: str = mergedSample.attrib.get(\"sampleID\", \"<NO_SAMPLE_ID>\")\n",
    "\n",
    "            for sent in mergedSample.xpath(\".//sentence\"):\n",
    "                suws = tuple(sent.xpath(\".//SUW\"))\n",
    "                first_pos = StartPos_UNKNOWN\n",
    "                if suws and (pos_str := suws[0].get(\"start\")):\n",
    "                    first_pos = int(pos_str)\n",
    "\n",
    "                writer.add_document(\n",
    "                    sampleID = sampleID,\n",
    "                    sent_start_pos = first_pos,\n",
    "                    text = \"\".join(\n",
    "                        (s.attrib.get(\"originalText\", s.text or \"\"))\n",
    "                        for s in suws\n",
    "                    )\n",
    "                )"
   ]
  },
  {
   "cell_type": "code",
   "execution_count": 5,
   "metadata": {},
   "outputs": [
    {
     "name": "stderr",
     "output_type": "stream",
     "text": [
      "searching the BCCWJ corpus: 100%|██████████| 3460/3460 [08:39<00:00,  6.67sent(s)/s]\n"
     ]
    }
   ],
   "source": [
    "WINDOW = 10\n",
    "\n",
    "with open(ANNOT_FILE) as af:\n",
    "    annots = tuple(\n",
    "        aoc.read_bracket_annotation_file(af)\n",
    "    )\n",
    "index = whoosh.index.open_dir(INDEX_PATH)\n",
    "qparser = whoosh.qparser.QueryParser(\"text\", index.schema)\n",
    "\n",
    "matching: dict[str, Match] = {}\n",
    "\n",
    "with index.searcher() as searcher:\n",
    "    for record in tqdm.tqdm(\n",
    "        annots,\n",
    "        desc = \"searching the BCCWJ corpus\",\n",
    "        total = len(annots),\n",
    "        unit = \"sent(s)\",\n",
    "    ):\n",
    "        ID = record[\"ID\"]\n",
    "        text = \"\".join(record[\"tokens\"])\n",
    "        results = searcher.search(\n",
    "            qparser.parse(\n",
    "                \" OR \".join(\n",
    "                    text[(i * WINDOW):((i + 1) * WINDOW)]\n",
    "                    for i in range(len(text) // WINDOW + 1)\n",
    "                )\n",
    "            )\n",
    "        )\n",
    "\n",
    "        match len(results):\n",
    "            case 0:\n",
    "                record[\"ID_previous\"] = ID\n",
    "                record[\"ID\"] = \"\"\n",
    "\n",
    "                match = Match(\n",
    "                    ID_current = ID,\n",
    "                    found_bccwj_file = None,\n",
    "                    found_bccwj_start = None,\n",
    "                    text_original = text,\n",
    "                    text_found = None,\n",
    "                    match_score = 0,\n",
    "                )\n",
    "            case 1:\n",
    "                res, = results\n",
    "                match = Match(\n",
    "                    ID_current = ID,\n",
    "                    found_bccwj_file = res[\"sampleID\"],\n",
    "                    found_bccwj_start = res[\"sent_start_pos\"],\n",
    "                    text_original = text,\n",
    "                    text_found = res[\"text\"],\n",
    "                    match_score = res.score,\n",
    "                )\n",
    "\n",
    "                record[\"ID_previous\"] = ID\n",
    "                record[\"ID\"] = match.generate_new_ID()\n",
    "            case _:\n",
    "                res1, res2, *res_rem = results\n",
    "                res_max = max(\n",
    "                    res1, res2, *res_rem,\n",
    "                    key = lambda i: i.score,\n",
    "                )\n",
    "                \n",
    "                match = Match(\n",
    "                    ID_current = ID,\n",
    "                    bccwj_pos = (res_max[\"sampleID\"], res_max[\"sent_start_pos\"]),\n",
    "                    text_original = text,\n",
    "                    text_found = res_max[\"text\"],\n",
    "                    match_score = res_max.score,\n",
    "                )\n",
    "\n",
    "                record[\"ID_previous\"] = ID\n",
    "                record[\"ID\"] = match.generate_new_ID()\n",
    "\n",
    "        matching[ID] = match\n",
    "    # === END FOR record ===\n",
    "# === END WITH searcher ===\n"
   ]
  },
  {
   "cell_type": "code",
   "execution_count": 6,
   "metadata": {},
   "outputs": [],
   "source": [
    "df_matching = pd.DataFrame(matching.values())\n",
    "df_matching[\"pred_bccwj_file\"] = df_matching[]"
   ]
  },
  {
   "cell_type": "code",
   "execution_count": 9,
   "metadata": {},
   "outputs": [],
   "source": [
    "def calc_distance(row):\n",
    "    if row[\"text_found\"]:\n",
    "        return jellyfish.levenshtein_distance(\n",
    "            row[\"text_original\"],\n",
    "            row[\"text_found\"],\n",
    "        )\n",
    "    else:\n",
    "        return float(\"nan\")\n",
    "    \n",
    "df_matching[\"levenshtein\"] = df_matching.apply(\n",
    "    axis = \"columns\",\n",
    "    func = calc_distance,\n",
    ")"
   ]
  },
  {
   "cell_type": "code",
   "execution_count": 16,
   "metadata": {},
   "outputs": [
    {
     "data": {
      "text/plain": [
       "<AxesSubplot: >"
      ]
     },
     "execution_count": 16,
     "metadata": {},
     "output_type": "execute_result"
    },
    {
     "data": {
      "image/png": "[encoded data removed]",
      "text/plain": [
       "<Figure size 640x480 with 1 Axes>"
      ]
     },
     "metadata": {},
     "output_type": "display_data"
    }
   ],
   "source": [
    "df_matching[df_matching[\"levenshtein\"] > 1][\"levenshtein\"].hist(bins = 100)"
   ]
  },
  {
   "cell_type": "code",
   "execution_count": 24,
   "metadata": {},
   "outputs": [],
   "source": [
    "df_matching.to_csv(\"res.csv\", na_rep=\"NaN\")"
   ]
  }
 ],
 "metadata": {
  "kernelspec": {
   "display_name": "comparative-ner-utils-sv0RmVnD-py3.10",
   "language": "python",
   "name": "python3"
  },
  "language_info": {
   "codemirror_mode": {
    "name": "ipython",
    "version": 3
   },
   "file_extension": ".py",
   "mimetype": "text/x-python",
   "name": "python",
   "nbconvert_exporter": "python",
   "pygments_lexer": "ipython3",
   "version": "3.10.4"
  },
  "orig_nbformat": 4,
  "vscode": {
   "interpreter": {
    "hash": "98ff88495b25d3c68e7ba2c5383ef33c76229d3a0872ace53e941ddd39c21b36"
   }
  }
 },
 "nbformat": 4,
 "nbformat_minor": 2
}
